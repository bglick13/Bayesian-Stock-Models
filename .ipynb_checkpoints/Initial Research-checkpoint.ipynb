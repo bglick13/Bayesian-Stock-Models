{
 "cells": [
  {
   "cell_type": "code",
   "execution_count": 317,
   "metadata": {
    "collapsed": true
   },
   "outputs": [],
   "source": [
    "import pandas as pd\n",
    "import numpy as np\n",
    "import matplotlib.pyplot as plt\n",
    "import seaborn as sns\n",
    "import pymc3 as pm\n",
    "import patsy\n",
    "import os, sys\n",
    "from sklearn.cluster import KMeans\n",
    "%matplotlib inline"
   ]
  },
  {
   "cell_type": "markdown",
   "metadata": {},
   "source": [
    "Initial research for a Bayesian fundamental risk premia hedge fund\n",
    "\n",
    "**Assets Traded**\n",
    "-----------------\n",
    "1) Equities\n",
    "    - Exact breakdown is TBD\n",
    "    - Categorization will either be by sector (and separated by country), or by Market Cap.\n",
    "    - Or, and this may be better, by volatiltiy. This allows combining Market Cap. with Sector\n",
    "    - Securities will be ETFs capturing the relecant market\n",
    "2) FX\n",
    "    - Categorized by developed and developing markets\n",
    "3) Commodities\n",
    "    - Again captured by ETFs\n",
    "    - Categorization is up in the air, but potentially by hard/soft commodities\n",
    "4) Fixed income\n",
    "    - Natural categorization could be rating\n",
    "    \n",
    "**Risk Premia Used**\n",
    "------------------\n",
    "1) Momentum\n",
    "    - Start with SMA crossover\n",
    "2) Value\n",
    "3) Carry\n",
    "\n",
    "**How is this Bayseian?**\n",
    "-------------------\n",
    "1) At the most basic level, the idea is to infer a hierarchical regression\n",
    "    - Returns ~ Indicator*a + B\n",
    "    - a, B inferred from hierarchy {Asset Type} -> {Categorization} -> {Security}\n",
    "2) Also interested in inferring parameters for Risk Premia calculations\n",
    "    -e.g, the exact windows for the moving averages in the momentum calculation"
   ]
  },
  {
   "cell_type": "markdown",
   "metadata": {},
   "source": [
    "# Step 1:\n",
    "## Collect data and calculate indicators"
   ]
  },
  {
   "cell_type": "markdown",
   "metadata": {},
   "source": [
    "*Initial Securities List:\n",
    "Equities:\n",
    "- SPY (SP500)\n",
    "- EFA (Extended developed markets)\n",
    "- VWO (Emerging Markets)\n",
    "- IJH (SP500 Mid-cap)\n",
    "- IJR (SP500 Small-cap)\n",
    "- IWF (Russell 1000 Growth)\n",
    "- VIG (Divided Appreciation)\n",
    "\n",
    "\n",
    "Fixed Income:\n",
    "- LQD (Investment Grade Corporate)\n",
    "- HYG (High-yield Coroporate)\n",
    "- EMB (Emerging Market Debt)\n",
    "- AGG (US Debt)\n",
    "\n",
    "Commodities:\n",
    "- GLD (Gold)\n",
    "- UCO (Oil)\n",
    "- JO (Coffee)\n",
    "- SGG (Sugar)\n",
    "- PPLT (Platinum)\n",
    "- VXX (Volatility)\n",
    "\n",
    "FX:\n",
    "- UUP (USD)\n",
    "- FXE (EURO)\n",
    "- FXB (BPS)\n",
    "- FXC (CAD)\n",
    "- FXA (AUD)\n",
    "- FXY (JPY)\n",
    "- CEW (Emerging Markets)\n",
    "- BZF (BRL)"
   ]
  },
  {
   "cell_type": "code",
   "execution_count": 318,
   "metadata": {
    "collapsed": true
   },
   "outputs": [],
   "source": [
    "root_dir = os.getcwd()"
   ]
  },
  {
   "cell_type": "code",
   "execution_count": 319,
   "metadata": {
    "collapsed": true
   },
   "outputs": [],
   "source": [
    "tickers = dict(\n",
    "    SPY=dict(asset='equity'),\n",
    "    EFA=dict(asset='equity'),\n",
    "    VWO=dict(asset='equity'),\n",
    "    IJH=dict(asset='equity'),\n",
    "    IJR=dict(asset='equity'),\n",
    "    IWF=dict(asset='equity'),\n",
    "    VIG=dict(asset='equity'),\n",
    "    LQD=dict(asset='bond'),\n",
    "    HYG=dict(asset='bond'),\n",
    "    EMB=dict(asset='bond'),\n",
    "    AGG=dict(asset='bond'),\n",
    "    GLD=dict(asset='commodity'),\n",
    "    UCO=dict(asset='commodity'),\n",
    "    JO=dict(asset='commodity'),\n",
    "    SGG=dict(asset='commodity'),\n",
    "    PPLT=dict(asset='commodity'),\n",
    "#     VXX=dict(asset='commodity'),\n",
    "    UUP=dict(asset='fx'),\n",
    "    FXE=dict(asset='fx'),\n",
    "    FXB=dict(asset='fx'),\n",
    "    FXY=dict(asset='fx'),\n",
    "    CEW=dict(asset='fx'),\n",
    "    BZF=dict(asset='fx'),\n",
    ")"
   ]
  },
  {
   "cell_type": "code",
   "execution_count": null,
   "metadata": {
    "collapsed": false,
    "scrolled": true
   },
   "outputs": [],
   "source": []
  },
  {
   "cell_type": "code",
   "execution_count": 320,
   "metadata": {
    "collapsed": true
   },
   "outputs": [],
   "source": [
    "def build_prices_dfs(tickers, n_categories=3):\n",
    "    out = dict()\n",
    "    for ticker in tickers.keys():\n",
    "        df = pd.read_csv(root_dir+'/data/{}.csv'.format(ticker))\n",
    "        df = df.replace({'null': np.nan})\n",
    "        df['Close'] = pd.to_numeric(df['Close'])\n",
    "        df['ticker'] = ticker\n",
    "        df['Date'] = pd.to_datetime(df['Date'])\n",
    "        df = df.set_index('Date')\n",
    "        df['pct_change'] = pd.to_numeric(df['Close'].pct_change().shift(-1))\n",
    "        df['log_return'] = (np.log(df.Close) - np.log(df.Close.shift(1))).shift(-1)\n",
    "        df['vol'] = df['pct_change'].std()\n",
    "        tickers[ticker]['vol'] = df['pct_change'].std()\n",
    "        df['month_return'] = pd.to_numeric(pd.rolling_sum(df['pct_change'][::-1], window=22, min_periods=22)[::-1])\n",
    "        df['month_log_return'] = pd.to_numeric(pd.rolling_sum(df['log_return'][::-1], window=22, min_periods=22)[::-1])\n",
    "        df['asset_type'] = tickers[ticker]['asset']\n",
    "        out[ticker] = df\n",
    "    combined = pd.concat([_df for _df in out.values()])\n",
    "    ticker_to_category = pd.DataFrame.from_dict(tickers, orient='index')\n",
    "#     ticker_to_category['category'] = pd.cut(ticker_to_category['vol'], n_categories, labels=range(n_categories))\n",
    "    km = KMeans(n_categories)\n",
    "    ticker_to_category['category'] = km.fit_predict([[x] for x in ticker_to_category['vol'].values])\n",
    "    combined['category'] = combined['ticker'].apply(lambda x: ticker_to_category.loc[x, 'category'])\n",
    "    return out, combined\n",
    "        "
   ]
  },
  {
   "cell_type": "code",
   "execution_count": 386,
   "metadata": {
    "collapsed": false,
    "scrolled": true
   },
   "outputs": [
    {
     "name": "stderr",
     "output_type": "stream",
     "text": [
      "/Users/benjaminglickenhaus/anaconda/lib/python3.5/site-packages/ipykernel/__main__.py:14: FutureWarning: pd.rolling_sum is deprecated for Series and will be removed in a future version, replace with \n",
      "\tSeries.rolling(window=22,min_periods=22,center=False).sum()\n",
      "/Users/benjaminglickenhaus/anaconda/lib/python3.5/site-packages/ipykernel/__main__.py:15: FutureWarning: pd.rolling_sum is deprecated for Series and will be removed in a future version, replace with \n",
      "\tSeries.rolling(window=22,min_periods=22,center=False).sum()\n"
     ]
    }
   ],
   "source": [
    "prices, combined = build_prices_dfs(tickers, 3)"
   ]
  },
  {
   "cell_type": "code",
   "execution_count": null,
   "metadata": {
    "collapsed": false
   },
   "outputs": [],
   "source": []
  },
  {
   "cell_type": "code",
   "execution_count": 387,
   "metadata": {
    "collapsed": true
   },
   "outputs": [],
   "source": [
    "category_encodings = dict((c, i) for i, c in enumerate(combined['category'].unique()))\n",
    "asset_encodings = dict((a, i) for i, a in enumerate(combined['asset_type'].unique()))\n",
    "security_encodings = dict((s, i) for i, s in enumerate(combined['ticker'].unique()))"
   ]
  },
  {
   "cell_type": "code",
   "execution_count": 388,
   "metadata": {
    "collapsed": true
   },
   "outputs": [],
   "source": [
    "combined['category_enc'] = combined['category'].apply(lambda x: category_encodings[x])\n",
    "combined['asset_type_enc'] = combined['asset_type'].apply(lambda x: asset_encodings[x])\n",
    "combined['security_enc'] = combined['ticker'].apply(lambda x: security_encodings[x])"
   ]
  },
  {
   "cell_type": "code",
   "execution_count": 389,
   "metadata": {
    "collapsed": false,
    "scrolled": true
   },
   "outputs": [
    {
     "data": {
      "text/html": [
       "<div>\n",
       "<style>\n",
       "    .dataframe thead tr:only-child th {\n",
       "        text-align: right;\n",
       "    }\n",
       "\n",
       "    .dataframe thead th {\n",
       "        text-align: left;\n",
       "    }\n",
       "\n",
       "    .dataframe tbody tr th {\n",
       "        vertical-align: top;\n",
       "    }\n",
       "</style>\n",
       "<table border=\"1\" class=\"dataframe\">\n",
       "  <thead>\n",
       "    <tr style=\"text-align: right;\">\n",
       "      <th></th>\n",
       "      <th>vol</th>\n",
       "      <th>category_enc</th>\n",
       "    </tr>\n",
       "    <tr>\n",
       "      <th>ticker</th>\n",
       "      <th></th>\n",
       "      <th></th>\n",
       "    </tr>\n",
       "  </thead>\n",
       "  <tbody>\n",
       "    <tr>\n",
       "      <th>AGG</th>\n",
       "      <td>0.003143</td>\n",
       "      <td>1</td>\n",
       "    </tr>\n",
       "    <tr>\n",
       "      <th>LQD</th>\n",
       "      <td>0.005037</td>\n",
       "      <td>1</td>\n",
       "    </tr>\n",
       "    <tr>\n",
       "      <th>CEW</th>\n",
       "      <td>0.005288</td>\n",
       "      <td>1</td>\n",
       "    </tr>\n",
       "    <tr>\n",
       "      <th>UUP</th>\n",
       "      <td>0.005639</td>\n",
       "      <td>1</td>\n",
       "    </tr>\n",
       "    <tr>\n",
       "      <th>FXE</th>\n",
       "      <td>0.006283</td>\n",
       "      <td>1</td>\n",
       "    </tr>\n",
       "    <tr>\n",
       "      <th>FXB</th>\n",
       "      <td>0.006298</td>\n",
       "      <td>1</td>\n",
       "    </tr>\n",
       "    <tr>\n",
       "      <th>FXY</th>\n",
       "      <td>0.006887</td>\n",
       "      <td>1</td>\n",
       "    </tr>\n",
       "    <tr>\n",
       "      <th>EMB</th>\n",
       "      <td>0.007078</td>\n",
       "      <td>1</td>\n",
       "    </tr>\n",
       "    <tr>\n",
       "      <th>HYG</th>\n",
       "      <td>0.008003</td>\n",
       "      <td>1</td>\n",
       "    </tr>\n",
       "    <tr>\n",
       "      <th>VIG</th>\n",
       "      <td>0.010831</td>\n",
       "      <td>0</td>\n",
       "    </tr>\n",
       "    <tr>\n",
       "      <th>SPY</th>\n",
       "      <td>0.011659</td>\n",
       "      <td>0</td>\n",
       "    </tr>\n",
       "    <tr>\n",
       "      <th>GLD</th>\n",
       "      <td>0.012101</td>\n",
       "      <td>0</td>\n",
       "    </tr>\n",
       "    <tr>\n",
       "      <th>PPLT</th>\n",
       "      <td>0.012224</td>\n",
       "      <td>0</td>\n",
       "    </tr>\n",
       "    <tr>\n",
       "      <th>IWF</th>\n",
       "      <td>0.012712</td>\n",
       "      <td>0</td>\n",
       "    </tr>\n",
       "    <tr>\n",
       "      <th>IJH</th>\n",
       "      <td>0.013328</td>\n",
       "      <td>0</td>\n",
       "    </tr>\n",
       "    <tr>\n",
       "      <th>BZF</th>\n",
       "      <td>0.013607</td>\n",
       "      <td>0</td>\n",
       "    </tr>\n",
       "    <tr>\n",
       "      <th>EFA</th>\n",
       "      <td>0.014107</td>\n",
       "      <td>0</td>\n",
       "    </tr>\n",
       "    <tr>\n",
       "      <th>IJR</th>\n",
       "      <td>0.014284</td>\n",
       "      <td>0</td>\n",
       "    </tr>\n",
       "    <tr>\n",
       "      <th>VWO</th>\n",
       "      <td>0.018862</td>\n",
       "      <td>0</td>\n",
       "    </tr>\n",
       "    <tr>\n",
       "      <th>JO</th>\n",
       "      <td>0.020841</td>\n",
       "      <td>0</td>\n",
       "    </tr>\n",
       "    <tr>\n",
       "      <th>SGG</th>\n",
       "      <td>0.021665</td>\n",
       "      <td>0</td>\n",
       "    </tr>\n",
       "    <tr>\n",
       "      <th>UCO</th>\n",
       "      <td>0.047410</td>\n",
       "      <td>2</td>\n",
       "    </tr>\n",
       "  </tbody>\n",
       "</table>\n",
       "</div>"
      ],
      "text/plain": [
       "             vol  category_enc\n",
       "ticker                        \n",
       "AGG     0.003143             1\n",
       "LQD     0.005037             1\n",
       "CEW     0.005288             1\n",
       "UUP     0.005639             1\n",
       "FXE     0.006283             1\n",
       "FXB     0.006298             1\n",
       "FXY     0.006887             1\n",
       "EMB     0.007078             1\n",
       "HYG     0.008003             1\n",
       "VIG     0.010831             0\n",
       "SPY     0.011659             0\n",
       "GLD     0.012101             0\n",
       "PPLT    0.012224             0\n",
       "IWF     0.012712             0\n",
       "IJH     0.013328             0\n",
       "BZF     0.013607             0\n",
       "EFA     0.014107             0\n",
       "IJR     0.014284             0\n",
       "VWO     0.018862             0\n",
       "JO      0.020841             0\n",
       "SGG     0.021665             0\n",
       "UCO     0.047410             2"
      ]
     },
     "execution_count": 389,
     "metadata": {},
     "output_type": "execute_result"
    }
   ],
   "source": [
    "combined.groupby('ticker').mean()[['vol', 'category_enc']].sort_values('vol')"
   ]
  },
  {
   "cell_type": "code",
   "execution_count": 390,
   "metadata": {
    "collapsed": false
   },
   "outputs": [
    {
     "data": {
      "text/plain": [
       "<matplotlib.axes._subplots.AxesSubplot at 0x19b9cb6a0>"
      ]
     },
     "execution_count": 390,
     "metadata": {},
     "output_type": "execute_result"
    },
    {
     "data": {
      "image/png": "[encoded data removed]",
      "text/plain": [
       "<matplotlib.figure.Figure at 0x19b970d30>"
      ]
     },
     "metadata": {},
     "output_type": "display_data"
    }
   ],
   "source": [
    "fig, ax = plt.subplots(figsize=(17, 8))\n",
    "sns.stripplot(x='ticker', y='category', data=combined.sort_values('vol'), size=combined['vol']*1000, ax=ax)\n",
    "# sns.stripplot(x='ticker', y='vol', data=combined.sort_values('vol'), ax=ax)"
   ]
  },
  {
   "cell_type": "markdown",
   "metadata": {},
   "source": [
    "# Step 2:\n",
    "## Build hierarchical regression model"
   ]
  },
  {
   "cell_type": "code",
   "execution_count": 391,
   "metadata": {
    "collapsed": true
   },
   "outputs": [],
   "source": [
    "combined = combined.dropna()"
   ]
  },
  {
   "cell_type": "code",
   "execution_count": 392,
   "metadata": {
    "collapsed": false
   },
   "outputs": [
    {
     "data": {
      "text/html": [
       "<div>\n",
       "<style>\n",
       "    .dataframe thead tr:only-child th {\n",
       "        text-align: right;\n",
       "    }\n",
       "\n",
       "    .dataframe thead th {\n",
       "        text-align: left;\n",
       "    }\n",
       "\n",
       "    .dataframe tbody tr th {\n",
       "        vertical-align: top;\n",
       "    }\n",
       "</style>\n",
       "<table border=\"1\" class=\"dataframe\">\n",
       "  <thead>\n",
       "    <tr style=\"text-align: right;\">\n",
       "      <th></th>\n",
       "      <th>Open</th>\n",
       "      <th>High</th>\n",
       "      <th>Low</th>\n",
       "      <th>Close</th>\n",
       "      <th>Adj Close</th>\n",
       "      <th>Volume</th>\n",
       "      <th>ticker</th>\n",
       "      <th>pct_change</th>\n",
       "      <th>log_return</th>\n",
       "      <th>vol</th>\n",
       "      <th>month_return</th>\n",
       "      <th>month_log_return</th>\n",
       "      <th>asset_type</th>\n",
       "      <th>category</th>\n",
       "      <th>category_enc</th>\n",
       "      <th>asset_type_enc</th>\n",
       "      <th>security_enc</th>\n",
       "    </tr>\n",
       "    <tr>\n",
       "      <th>Date</th>\n",
       "      <th></th>\n",
       "      <th></th>\n",
       "      <th></th>\n",
       "      <th></th>\n",
       "      <th></th>\n",
       "      <th></th>\n",
       "      <th></th>\n",
       "      <th></th>\n",
       "      <th></th>\n",
       "      <th></th>\n",
       "      <th></th>\n",
       "      <th></th>\n",
       "      <th></th>\n",
       "      <th></th>\n",
       "      <th></th>\n",
       "      <th></th>\n",
       "      <th></th>\n",
       "    </tr>\n",
       "  </thead>\n",
       "  <tbody>\n",
       "    <tr>\n",
       "      <th>2000-05-26</th>\n",
       "      <td>45.687500</td>\n",
       "      <td>45.687500</td>\n",
       "      <td>45.687500</td>\n",
       "      <td>45.687500</td>\n",
       "      <td>36.954700</td>\n",
       "      <td>40000</td>\n",
       "      <td>IJH</td>\n",
       "      <td>0.038988</td>\n",
       "      <td>0.038247</td>\n",
       "      <td>0.013328</td>\n",
       "      <td>0.077453</td>\n",
       "      <td>0.074767</td>\n",
       "      <td>equity</td>\n",
       "      <td>0</td>\n",
       "      <td>0</td>\n",
       "      <td>0</td>\n",
       "      <td>0</td>\n",
       "    </tr>\n",
       "    <tr>\n",
       "      <th>2000-05-30</th>\n",
       "      <td>47.187500</td>\n",
       "      <td>47.468750</td>\n",
       "      <td>47.187500</td>\n",
       "      <td>47.468750</td>\n",
       "      <td>38.395473</td>\n",
       "      <td>104200</td>\n",
       "      <td>IJH</td>\n",
       "      <td>-0.001646</td>\n",
       "      <td>-0.001647</td>\n",
       "      <td>0.013328</td>\n",
       "      <td>0.043226</td>\n",
       "      <td>0.041270</td>\n",
       "      <td>equity</td>\n",
       "      <td>0</td>\n",
       "      <td>0</td>\n",
       "      <td>0</td>\n",
       "      <td>0</td>\n",
       "    </tr>\n",
       "    <tr>\n",
       "      <th>2000-05-31</th>\n",
       "      <td>47.390621</td>\n",
       "      <td>47.390621</td>\n",
       "      <td>47.390621</td>\n",
       "      <td>47.390621</td>\n",
       "      <td>38.332291</td>\n",
       "      <td>400</td>\n",
       "      <td>IJH</td>\n",
       "      <td>0.018134</td>\n",
       "      <td>0.017971</td>\n",
       "      <td>0.013328</td>\n",
       "      <td>0.025604</td>\n",
       "      <td>0.023461</td>\n",
       "      <td>equity</td>\n",
       "      <td>0</td>\n",
       "      <td>0</td>\n",
       "      <td>0</td>\n",
       "      <td>0</td>\n",
       "    </tr>\n",
       "    <tr>\n",
       "      <th>2000-06-01</th>\n",
       "      <td>47.937500</td>\n",
       "      <td>48.250000</td>\n",
       "      <td>47.937500</td>\n",
       "      <td>48.250000</td>\n",
       "      <td>39.027409</td>\n",
       "      <td>20400</td>\n",
       "      <td>IJH</td>\n",
       "      <td>0.038860</td>\n",
       "      <td>0.038124</td>\n",
       "      <td>0.013328</td>\n",
       "      <td>0.020836</td>\n",
       "      <td>0.018767</td>\n",
       "      <td>equity</td>\n",
       "      <td>0</td>\n",
       "      <td>0</td>\n",
       "      <td>0</td>\n",
       "      <td>0</td>\n",
       "    </tr>\n",
       "    <tr>\n",
       "      <th>2000-06-02</th>\n",
       "      <td>50.296879</td>\n",
       "      <td>50.328121</td>\n",
       "      <td>50.046879</td>\n",
       "      <td>50.125000</td>\n",
       "      <td>40.544010</td>\n",
       "      <td>83600</td>\n",
       "      <td>IJH</td>\n",
       "      <td>-0.007637</td>\n",
       "      <td>-0.007666</td>\n",
       "      <td>0.013328</td>\n",
       "      <td>-0.030578</td>\n",
       "      <td>-0.031990</td>\n",
       "      <td>equity</td>\n",
       "      <td>0</td>\n",
       "      <td>0</td>\n",
       "      <td>0</td>\n",
       "      <td>0</td>\n",
       "    </tr>\n",
       "  </tbody>\n",
       "</table>\n",
       "</div>"
      ],
      "text/plain": [
       "                 Open       High        Low      Close  Adj Close  Volume  \\\n",
       "Date                                                                        \n",
       "2000-05-26  45.687500  45.687500  45.687500  45.687500  36.954700   40000   \n",
       "2000-05-30  47.187500  47.468750  47.187500  47.468750  38.395473  104200   \n",
       "2000-05-31  47.390621  47.390621  47.390621  47.390621  38.332291     400   \n",
       "2000-06-01  47.937500  48.250000  47.937500  48.250000  39.027409   20400   \n",
       "2000-06-02  50.296879  50.328121  50.046879  50.125000  40.544010   83600   \n",
       "\n",
       "           ticker  pct_change  log_return       vol  month_return  \\\n",
       "Date                                                                \n",
       "2000-05-26    IJH    0.038988    0.038247  0.013328      0.077453   \n",
       "2000-05-30    IJH   -0.001646   -0.001647  0.013328      0.043226   \n",
       "2000-05-31    IJH    0.018134    0.017971  0.013328      0.025604   \n",
       "2000-06-01    IJH    0.038860    0.038124  0.013328      0.020836   \n",
       "2000-06-02    IJH   -0.007637   -0.007666  0.013328     -0.030578   \n",
       "\n",
       "            month_log_return asset_type  category  category_enc  \\\n",
       "Date                                                              \n",
       "2000-05-26          0.074767     equity         0             0   \n",
       "2000-05-30          0.041270     equity         0             0   \n",
       "2000-05-31          0.023461     equity         0             0   \n",
       "2000-06-01          0.018767     equity         0             0   \n",
       "2000-06-02         -0.031990     equity         0             0   \n",
       "\n",
       "            asset_type_enc  security_enc  \n",
       "Date                                      \n",
       "2000-05-26               0             0  \n",
       "2000-05-30               0             0  \n",
       "2000-05-31               0             0  \n",
       "2000-06-01               0             0  \n",
       "2000-06-02               0             0  "
      ]
     },
     "execution_count": 392,
     "metadata": {},
     "output_type": "execute_result"
    }
   ],
   "source": [
    "combined.head()"
   ]
  },
  {
   "cell_type": "code",
   "execution_count": 393,
   "metadata": {
    "collapsed": false
   },
   "outputs": [
    {
     "data": {
      "text/plain": [
       "array([0, 1, 0, 0, 1, 0, 0, 0, 0, 0, 0, 1, 0, 1, 1, 1, 1, 0, 2, 1, 0, 1])"
      ]
     },
     "execution_count": 393,
     "metadata": {},
     "output_type": "execute_result"
    }
   ],
   "source": [
    "groupby = 'category_enc'\n",
    "sec_category_map = (combined.groupby(['security_enc',groupby]).size()\n",
    "                  .reset_index()[groupby].values)\n",
    "sec_category_map"
   ]
  },
  {
   "cell_type": "code",
   "execution_count": null,
   "metadata": {
    "collapsed": false,
    "scrolled": false
   },
   "outputs": [],
   "source": [
    "prices, combined = build_prices_dfs(tickers, 3)\n",
    "\n",
    "category_encodings = dict((c, i) for i, c in enumerate(combined['category'].unique()))\n",
    "asset_encodings = dict((a, i) for i, a in enumerate(combined['asset_type'].unique()))\n",
    "security_encodings = dict((s, i) for i, s in enumerate(combined['ticker'].unique()))\n",
    "\n",
    "combined['category_enc'] = combined['category'].apply(lambda x: category_encodings[x])\n",
    "combined['asset_type_enc'] = combined['asset_type'].apply(lambda x: asset_encodings[x])\n",
    "combined['security_enc'] = combined['ticker'].apply(lambda x: security_encodings[x])\n",
    "\n",
    "groupby = 'category_enc'\n",
    "sec_category_map = (combined.groupby(['security_enc',groupby]).size()\n",
    "                  .reset_index()[groupby].values)\n",
    "sec_category_map\n",
    "n_assets = len(asset_encodings)\n",
    "n_categories = len(np.unique(sec_category_map))\n",
    "n_securities = len(security_encodings)\n",
    "\n",
    "with pm.Model() as model:\n",
    "    fast_window = 7\n",
    "    slow_window = 25\n",
    "    for ticker in combined['ticker'].unique():\n",
    "        combined.loc[combined['ticker'] == ticker, 'fast'] =\\\n",
    "        combined.loc[combined['ticker'] == ticker, 'Close'].rolling(fast_window).mean()\n",
    "        \n",
    "        combined.loc[combined['ticker'] == ticker, 'slow'] =\\\n",
    "        combined.loc[combined['ticker'] == ticker, 'Close'].rolling(slow_window).mean()\n",
    "        \n",
    "    combined['momentum'] = pd.to_numeric((combined['fast'] - combined['slow']) / combined['slow'])\n",
    "    combined = combined.dropna()\n",
    "    \n",
    "    a_category_mu = pm.StudentT('a_category_mu', mu=0, sd=3, nu=1)\n",
    "    a_category_sd = pm.HalfCauchy('a_category_sd', 2)\n",
    "    \n",
    "    a_category = pm.Normal('a_category', mu=a_category_mu, sd=a_category_sd, shape=n_categories)\n",
    "    a_sec_sd = pm.Uniform('a_security_sd', 1, 5)\n",
    "    \n",
    "    a_sec = pm.Normal('a_security', mu=a_category[sec_category_map], sd=a_sec_sd, shape=n_securities)\n",
    "    \n",
    "#     b_category_mu = pm.Normal('b_category_mu', mu=0, sd=1)\n",
    "#     b_category_sd = pm.HalfCauchy('b_category_sd', 2)\n",
    "    \n",
    "#     b_category = pm.Normal('b_category', mu=b_category_mu, sd=b_category_sd, shape=n_categories)\n",
    "#     b_sec_sd = pm.HalfCauchy('b_security_sd', 2)\n",
    "#     b_nu = pm.Uniform('b_nu', 1, 20)\n",
    "#     b_mu = pm.Normal('b_mu', mu=0, sd=2)\n",
    "#     b_sd = pm.Uniform('b_sd', 1, 3)\n",
    "#     b_sec = pm.Uniform('b_security', -1, 1, shape=n_securities)\n",
    "    \n",
    "    # Forward returns ~ Indicator * slope + intercept\n",
    "    y_est = (combined['momentum'].values * a_sec[combined['security_enc'].values])# + b_sec[combined['security_enc'].values])\n",
    "    epsilon = pm.Uniform('epsilon', 1, 5)\n",
    "    nu = pm.Uniform('nu', 1, 20)\n",
    "    \n",
    "    likelihood = pm.StudentT('likelihood', nu=nu, mu=y_est, sd=epsilon, observed=combined['month_log_return'].values)\n",
    "    trace = pm.sample(4000, init='advi', n_init=50000, step=pm.Metropolis())"
   ]
  },
  {
   "cell_type": "code",
   "execution_count": null,
   "metadata": {
    "collapsed": false,
    "scrolled": false
   },
   "outputs": [],
   "source": [
    "pm.traceplot(trace);"
   ]
  },
  {
   "cell_type": "code",
   "execution_count": null,
   "metadata": {
    "collapsed": true
   },
   "outputs": [],
   "source": [
    "def calc_prediction_helper(row):\n",
    "    rt = row.momentum * np.mean(trace['a_security'][:, row.security_enc])\n",
    "#     print(\"{} = {} * {} + {}\".format(rt, row.momentum,\n",
    "#                                      np.mean(trace['a_security'][:, row.security_enc]),\n",
    "#                                     np.mean(trace['b_security'][:, row.security_enc])))\n",
    "    a = (row.momentum * trace['a_security'][:, row.security_enc])\n",
    "    return np.mean(a > 0)"
   ]
  },
  {
   "cell_type": "code",
   "execution_count": null,
   "metadata": {
    "collapsed": false
   },
   "outputs": [],
   "source": [
    "ticker_to_trace = dict()\n",
    "for t, i in security_encodings.items():\n",
    "    ticker_to_trace[t] = trace['a_security'][:, i]"
   ]
  },
  {
   "cell_type": "code",
   "execution_count": 406,
   "metadata": {
    "collapsed": false,
    "scrolled": true
   },
   "outputs": [
    {
     "name": "stdout",
     "output_type": "stream",
     "text": [
      "dict(IJH=[0.0, 0.0, 0.0, 0.0, 0.0, 0.0, 0.0, 0.0, 0.0, 0.0, 0.0, 0.0, 0.0, 0.0, 0.0, 0.0, 0.0, 0.0, 0.0, 0.0, 0.0, 0.0, 0.0, 0.0, 0.0, 0.0, 0.0, 0.0, 0.0, 0.0, 0.0, 0.0, 0.0, 0.0, 0.0, 0.0, 0.0, 0.0, 0.0, 0.0, 0.0, 0.0, 0.0, 0.0, 0.0, 0.0, 0.0, 0.0, 0.0, 0.0, 0.0, 0.0, 0.0, 0.0, 0.0, 0.0, 0.0, 0.0, 0.0, 0.0, 0.0, 0.0, 0.0, 0.0, 0.0, 0.0, 0.0, 0.0, 0.0, 0.0, 0.0, 0.0, 0.0, 0.0, 0.0, 0.0, 0.0, 0.0, 0.0, 0.0, 0.0, 0.0, 0.0, 0.0, 0.0, 0.0, 0.0, 0.0, 0.0, 0.0, 0.0, 0.0, 0.0, 0.0, 0.0, 0.0, 0.0, 0.0, 0.0, 0.0, -0.0677242935123, -0.116209963586, -0.0884554104489, -0.0520956632592, -0.0635308308577, -0.0635308308577, -0.156687530975, -0.156687530975, -0.156687530975, -0.156687530975, -0.195231615678, -0.102136716049, -0.102136716049, -0.0969285606942, -0.0375388601336, -0.0298880683954, -0.0885693919666, -0.0885693919666, 0.0711095563359, 0.0711095563359, 0.0732867668962, 0.0732867668962, 0.0732867668962, 0.0732867668962, 0.152732132141, 0.152732132141, 0.152732132141, 0.220008722408, 0.450746538272, 0.499242816671, 0.499242816671, 0.499242816671, 0.499242816671, 0.499242816671, 0.499242816671, 0.379863860481, 0.45684445981, 0.554964581574, 0.408971596361, 0.612892324114, 0.616792057691, 0.659274625757, 0.689669300551, 0.687146545282, 0.711749170761, 0.711749170761, 0.618238215229, 0.518349830058, 0.518349830058, 0.648385610799, 0.648385610799, 0.898316040562, 0.817803305298, 0.817803305298, 0.817803305298, 0.93095485118, 0.879275609891, 0.730014243125, 0.819306972776, 0.819306972776, 0.908267580466, 0.908267580466, 0.908267580466, 0.830480247027,],FXB=[0.0, 0.0, 0.0, 0.0, 0.0, 0.0, 0.0, 0.0, 0.0, 0.0, 0.0, 0.0, 0.0, 0.0, 0.0, 0.0, 0.0, 0.0, 0.0, 0.0, 0.0, 0.0, 0.0, 0.0, 0.0, 0.0, 0.0, 0.0, 0.0, 0.0, 0.0, 0.0, 0.0, 0.0, 0.0, 0.0, 0.0, 0.0, 0.0, 0.0, 0.0, 0.0, 0.0, 0.0, 0.0, 0.0, 0.0, 0.0, 0.0, 0.0, 0.0, 0.0, 0.0, 0.0, 0.0, 0.0, 0.0, 0.0, 0.0, 0.0, 0.0, 0.0, 0.0, 0.0, 0.0, 0.0, 0.0, 0.0, 0.0, 0.0, 0.0, 0.0, 0.0, 0.0, 0.0, 0.0, 0.0, 0.0, 0.0, 0.0, 0.0, 0.0, 0.0, 0.0, 0.0, 0.0, 0.0, 0.0, 0.0, 0.0, 0.0, 0.0, 0.0, 0.0, 0.0, 0.0, 0.0, 0.0, 0.0, 0.0, 0.019885376253, 0.00912412485543, 0.127875072736, 0.263508215045, 0.254209533821, 0.254209533821, 0.408755353578, 0.408755353578, 0.408755353578, 0.408755353578, 0.348731125364, 0.122788633539, 0.122788633539, 0.225299381577, 0.275601238467, 0.258897381573, 0.146356744529, 0.146356744529, 0.226860647572, 0.226860647572, 0.277663788996, 0.277663788996, 0.277663788996, 0.277663788996, 0.269327954011, 0.269327954011, 0.269327954011, 0.426335000688, 0.300839524069, 0.224603439731, 0.224603439731, 0.224603439731, 0.224603439731, 0.224603439731, 0.224603439731, 0.147258762344, 0.0787374581834, -0.0269856289476, 0.000816720278891, -0.0460250998149, -0.0575445464527, -0.180154544971, -0.135644046673, 0.0250472017557, 0.0949894448021, 0.0949894448021, 0.051757178999, 0.104546171742, 0.104546171742, 0.0568364151509, 0.0568364151509, 0.145895812874, 0.303776516997, 0.303776516997, 0.303776516997, 0.275539753506, 0.271302704636, 0.144686830542, 0.201622563831, 0.201622563831, 0.0629749756317, 0.0629749756317, 0.0629749756317, 0.145570874381,],IJR=[0.0, 0.0, 0.0, 0.0, 0.0, 0.0, 0.0, 0.0, 0.0, 0.0, 0.0, 0.0, 0.0, 0.0, 0.0, 0.0, 0.0, 0.0, 0.0, 0.0, 0.0, 0.0, 0.0, 0.0, 0.0, 0.0, 0.0, 0.0, 0.0, 0.0, 0.0, 0.0, 0.0, 0.0, 0.0, 0.0, 0.0, 0.0, 0.0, 0.0, 0.0, 0.0, 0.0, 0.0, 0.0, 0.0, 0.0, 0.0, 0.0, 0.0, 0.0, 0.0, 0.0, 0.0, 0.0, 0.0, 0.0, 0.0, 0.0, 0.0, 0.0, 0.0, 0.0, 0.0, 0.0, 0.0, 0.0, 0.0, 0.0, 0.0, 0.0, 0.0, 0.0, 0.0, 0.0, 0.0, 0.0, 0.0, 0.0, 0.0, 0.0, 0.0, 0.0, 0.0, 0.0, 0.0, 0.0, 0.0, 0.0, 0.0, 0.0, 0.0, 0.0, 0.0, 0.0, 0.0, 0.0, 0.0, 0.0, 0.0, 0.0334149406062, 0.0137116360785, 0.0928554916129, 0.176823616971, 0.09676881076, 0.09676881076, -0.0406244387488, -0.0406244387488, -0.0406244387488, -0.0406244387488, -0.0787171640098, 0.0144713347894, 0.0144713347894, 0.1941055243, 0.238263475791, 0.213462715828, 0.142400355149, 0.142400355149, 0.227719971899, 0.227719971899, 0.138803318668, 0.138803318668, 0.138803318668, 0.138803318668, 0.0709409922633, 0.0709409922633, 0.0709409922633, 0.102936358419, 0.264856865861, 0.37212870431, 0.37212870431, 0.37212870431, 0.37212870431, 0.37212870431, 0.37212870431, 0.396380684995, 0.50932772851, 0.464438700463, 0.373732333233, 0.352217840256, 0.172308163716, 0.178667877825, 0.158024265229, 0.198152482991, 0.311710151311, 0.311710151311, 0.15670709094, 0.130186387617, 0.130186387617, 0.0511927529556, 0.0511927529556, -0.0266336826122, -0.171693772702, -0.171693772702, -0.171693772702, 0.0390102263766, -0.0203899268181, 0.150628483026, 0.173225568684, 0.173225568684, 0.162608382533, 0.162608382533, 0.162608382533, 0.104870437952,],VIG=[0.0, 0.0, 0.0, 0.0, 0.0, 0.0, 0.0, 0.0, 0.0, 0.0, 0.0, 0.0, 0.0, 0.0, 0.0, 0.0, 0.0, 0.0, 0.0, 0.0, 0.0, 0.0, 0.0, 0.0, 0.0, 0.0, 0.0, 0.0, 0.0, 0.0, 0.0, 0.0, 0.0, 0.0, 0.0, 0.0, 0.0, 0.0, 0.0, 0.0, 0.0, 0.0, 0.0, 0.0, 0.0, 0.0, 0.0, 0.0, 0.0, 0.0, 0.0, 0.0, 0.0, 0.0, 0.0, 0.0, 0.0, 0.0, 0.0, 0.0, 0.0, 0.0, 0.0, 0.0, 0.0, 0.0, 0.0, 0.0, 0.0, 0.0, 0.0, 0.0, 0.0, 0.0, 0.0, 0.0, 0.0, 0.0, 0.0, 0.0, 0.0, 0.0, 0.0, 0.0, 0.0, 0.0, 0.0, 0.0, 0.0, 0.0, 0.0, 0.0, 0.0, 0.0, 0.0, 0.0, 0.0, 0.0, 0.0, 0.0, -0.0511518384627, -0.0437531401127, 0.0128608025865, 0.0797472815696, 0.255214735756, 0.255214735756, 0.379138396958, 0.379138396958, 0.379138396958, 0.379138396958, 0.577141174242, 0.406075095656, 0.406075095656, 0.248271916282, 0.230300541087, 0.0276824139277, 0.206529885133, 0.206529885133, 0.294204219321, 0.294204219321, 0.309094238998, 0.309094238998, 0.309094238998, 0.309094238998, 0.318698211506, 0.318698211506, 0.318698211506, 0.172980337928, 0.237804767567, 0.202433372537, 0.202433372537, 0.202433372537, 0.202433372537, 0.202433372537, 0.202433372537, 0.269278172997, 0.31275217134, 0.368836883913, 0.385264284112, 0.576444166596, 0.768857330704, 0.738718983993, 0.738858904341, 0.767211686476, 0.472341448477, 0.472341448477, 0.684330097634, 0.677512422119, 0.677512422119, 0.505911856322, 0.505911856322, 0.499587873072, 0.494045354511, 0.494045354511, 0.494045354511, 0.636147788965, 0.567118346284, 0.713154177144, 0.708785723279, 0.708785723279, 0.58626919594, 0.58626919594, 0.58626919594, 0.44026895579,],EMB=[0.0, 0.0, 0.0, 0.0, 0.0, 0.0, 0.0, 0.0, 0.0, 0.0, 0.0, 0.0, 0.0, 0.0, 0.0, 0.0, 0.0, 0.0, 0.0, 0.0, 0.0, 0.0, 0.0, 0.0, 0.0, 0.0, 0.0, 0.0, 0.0, 0.0, 0.0, 0.0, 0.0, 0.0, 0.0, 0.0, 0.0, 0.0, 0.0, 0.0, 0.0, 0.0, 0.0, 0.0, 0.0, 0.0, 0.0, 0.0, 0.0, 0.0, 0.0, 0.0, 0.0, 0.0, 0.0, 0.0, 0.0, 0.0, 0.0, 0.0, 0.0, 0.0, 0.0, 0.0, 0.0, 0.0, 0.0, 0.0, 0.0, 0.0, 0.0, 0.0, 0.0, 0.0, 0.0, 0.0, 0.0, 0.0, 0.0, 0.0, 0.0, 0.0, 0.0, 0.0, 0.0, 0.0, 0.0, 0.0, 0.0, 0.0, 0.0, 0.0, 0.0, 0.0, 0.0, 0.0, 0.0, 0.0, 0.0, 0.0, -0.00515490754959, -0.0599366528429, 0.00395633568253, -0.0459776318168, -0.187092979087, -0.187092979087, -0.105053639822, -0.105053639822, -0.105053639822, -0.105053639822, -0.143030521056, -0.131812802149, -0.131812802149, -0.170258505438, -0.46371762928, -0.509949100431, -0.406363515776, -0.406363515776, -0.45781734994, -0.45781734994, -0.341802752986, -0.341802752986, -0.341802752986, -0.341802752986, -0.55371961678, -0.55371961678, -0.55371961678, -0.468352200237, -0.649394003778, -0.66069849973, -0.66069849973, -0.66069849973, -0.66069849973, -0.66069849973, -0.66069849973, -0.692474568365, -0.512257902007, -0.542800720605, -0.642091206842, -0.811121971694, -0.781957805411, -0.703957426784, -0.691205002934, -0.823175058288, -0.80238803583, -0.80238803583, -0.942451266799, -1.09980236526, -1.09980236526, -0.97722160051, -0.97722160051, -1.07572411296, -1.06035431465, -1.06035431465, -1.06035431465, -1.15340017991, -1.05457628754, -1.02009850413, -1.09070978867, -1.09070978867, -1.17250914222, -1.17250914222, -1.17250914222, -1.25101945766,],SPY=[0.0, 0.0, 0.0, 0.0, 0.0, 0.0, 0.0, 0.0, 0.0, 0.0, 0.0, 0.0, 0.0, 0.0, 0.0, 0.0, 0.0, 0.0, 0.0, 0.0, 0.0, 0.0, 0.0, 0.0, 0.0, 0.0, 0.0, 0.0, 0.0, 0.0, 0.0, 0.0, 0.0, 0.0, 0.0, 0.0, 0.0, 0.0, 0.0, 0.0, 0.0, 0.0, 0.0, 0.0, 0.0, 0.0, 0.0, 0.0, 0.0, 0.0, 0.0, 0.0, 0.0, 0.0, 0.0, 0.0, 0.0, 0.0, 0.0, 0.0, 0.0, 0.0, 0.0, 0.0, 0.0, 0.0, 0.0, 0.0, 0.0, 0.0, 0.0, 0.0, 0.0, 0.0, 0.0, 0.0, 0.0, 0.0, 0.0, 0.0, 0.0, 0.0, 0.0, 0.0, 0.0, 0.0, 0.0, 0.0, 0.0, 0.0, 0.0, 0.0, 0.0, 0.0, 0.0, 0.0, 0.0, 0.0, 0.0, 0.0, -0.052169834348, 0.111005506702, 0.0518636902851, 0.070590489668, 0.104609619651, 0.104609619651, 0.00169739269701, 0.00169739269701, 0.00169739269701, 0.00169739269701, -0.120089685544, -0.165827394617, -0.165827394617, 0.0168267594113, -0.21655336348, -0.210776563095, -0.294954239391, -0.294954239391, -0.410098670238, -0.410098670238, -0.489627646624, -0.489627646624, -0.489627646624, -0.489627646624, -0.509725130139, -0.509725130139, -0.509725130139, -0.5369764099, -0.492143717296, -0.384388108463, -0.384388108463, -0.384388108463, -0.384388108463, -0.384388108463, -0.384388108463, -0.351352700422, -0.46034534726, -0.562045192927, -0.500629376037, -0.558823564812, -0.569653696675, -0.597725489363, -0.457285294069, -0.565464171745, -0.469260183402, -0.469260183402, -0.40072263364, -0.387230555258, -0.387230555258, -0.508150161393, -0.508150161393, -0.523353237418, -0.416105569972, -0.416105569972, -0.416105569972, -0.354042006089, -0.417861657187, -0.403283037107, -0.360486512447, -0.360486512447, -0.188039426672, -0.188039426672, -0.188039426672, -0.38412927048,],BZF=[0.0, 0.0, 0.0, 0.0, 0.0, 0.0, 0.0, 0.0, 0.0, 0.0, 0.0, 0.0, 0.0, 0.0, 0.0, 0.0, 0.0, 0.0, 0.0, 0.0, 0.0, 0.0, 0.0, 0.0, 0.0, 0.0, 0.0, 0.0, 0.0, 0.0, 0.0, 0.0, 0.0, 0.0, 0.0, 0.0, 0.0, 0.0, 0.0, 0.0, 0.0, 0.0, 0.0, 0.0, 0.0, 0.0, 0.0, 0.0, 0.0, 0.0, 0.0, 0.0, 0.0, 0.0, 0.0, 0.0, 0.0, 0.0, 0.0, 0.0, 0.0, 0.0, 0.0, 0.0, 0.0, 0.0, 0.0, 0.0, 0.0, 0.0, 0.0, 0.0, 0.0, 0.0, 0.0, 0.0, 0.0, 0.0, 0.0, 0.0, 0.0, 0.0, 0.0, 0.0, 0.0, 0.0, 0.0, 0.0, 0.0, 0.0, 0.0, 0.0, 0.0, 0.0, 0.0, 0.0, 0.0, 0.0, 0.0, 0.0, 0.0357928853938, 0.0457884586557, 0.0280123664131, 0.176943260489, 0.249999140783, 0.249999140783, 0.457071476455, 0.457071476455, 0.457071476455, 0.457071476455, 0.455297547609, 0.446458964784, 0.446458964784, 0.598255034579, 0.691669851764, 0.816640241799, 0.634673084231, 0.634673084231, 0.485718055366, 0.485718055366, 0.433007030885, 0.433007030885, 0.433007030885, 0.433007030885, 0.419609922167, 0.419609922167, 0.419609922167, 0.463870889713, 0.304263566456, 0.233453659876, 0.233453659876, 0.233453659876, 0.233453659876, 0.233453659876, 0.233453659876, 0.292555221963, 0.421581039857, 0.389729931032, 0.277324676271, 0.267592789436, 0.134697634591, 0.10836788126, 0.114565886777, 0.129651116972, 0.0853410868325, 0.0853410868325, 0.0958614435612, -0.0208616223988, -0.0208616223988, -0.0750491985102, -0.0750491985102, -0.0245490647604, -0.14213549811, -0.14213549811, -0.14213549811, -0.168275005758, -0.338763577193, -0.308243502586, -0.436203917002, -0.436203917002, -0.44315890629, -0.44315890629, -0.44315890629, -0.333556221717,],IWF=[0.0, 0.0, 0.0, 0.0, 0.0, 0.0, 0.0, 0.0, 0.0, 0.0, 0.0, 0.0, 0.0, 0.0, 0.0, 0.0, 0.0, 0.0, 0.0, 0.0, 0.0, 0.0, 0.0, 0.0, 0.0, 0.0, 0.0, 0.0, 0.0, 0.0, 0.0, 0.0, 0.0, 0.0, 0.0, 0.0, 0.0, 0.0, 0.0, 0.0, 0.0, 0.0, 0.0, 0.0, 0.0, 0.0, 0.0, 0.0, 0.0, 0.0, 0.0, 0.0, 0.0, 0.0, 0.0, 0.0, 0.0, 0.0, 0.0, 0.0, 0.0, 0.0, 0.0, 0.0, 0.0, 0.0, 0.0, 0.0, 0.0, 0.0, 0.0, 0.0, 0.0, 0.0, 0.0, 0.0, 0.0, 0.0, 0.0, 0.0, 0.0, 0.0, 0.0, 0.0, 0.0, 0.0, 0.0, 0.0, 0.0, 0.0, 0.0, 0.0, 0.0, 0.0, 0.0, 0.0, 0.0, 0.0, 0.0, 0.0, -0.0234341003329, 0.00168854573588, -0.0945408299714, -0.121114142972, -0.0827153482374, -0.0827153482374, -0.112430721762, -0.112430721762, -0.112430721762, -0.112430721762, -0.123942150008, -0.0206469355714, -0.0206469355714, 0.120038811247, 0.0306592227152, 0.0452128510189, 0.165906843107, 0.165906843107, 0.300532382848, 0.300532382848, 0.340761375242, 0.340761375242, 0.340761375242, 0.340761375242, 0.340431342148, 0.340431342148, 0.340431342148, 0.505568182504, 0.393854819825, 0.415789694956, 0.415789694956, 0.415789694956, 0.415789694956, 0.415789694956, 0.415789694956, 0.49889598007, 0.416490431829, 0.368957333562, 0.512006342222, 0.647816379212, 0.706074819816, 0.716326786028, 0.691040177732, 0.702652741885, 0.746212783269, 0.746212783269, 0.645687231267, 0.63946037971, 0.63946037971, 0.523389170172, 0.523389170172, 0.464583244463, 0.523946069344, 0.523946069344, 0.523946069344, 0.393157079049, 0.430830553087, 0.303298518276, 0.155205353842, 0.155205353842, 0.231367520091, 0.231367520091, 0.231367520091, 0.18734847901,],GLD=[0.0, 0.0, 0.0, 0.0, 0.0, 0.0, 0.0, 0.0, 0.0, 0.0, 0.0, 0.0, 0.0, 0.0, 0.0, 0.0, 0.0, 0.0, 0.0, 0.0, 0.0, 0.0, 0.0, 0.0, 0.0, 0.0, 0.0, 0.0, 0.0, 0.0, 0.0, 0.0, 0.0, 0.0, 0.0, 0.0, 0.0, 0.0, 0.0, 0.0, 0.0, 0.0, 0.0, 0.0, 0.0, 0.0, 0.0, 0.0, 0.0, 0.0, 0.0, 0.0, 0.0, 0.0, 0.0, 0.0, 0.0, 0.0, 0.0, 0.0, 0.0, 0.0, 0.0, 0.0, 0.0, 0.0, 0.0, 0.0, 0.0, 0.0, 0.0, 0.0, 0.0, 0.0, 0.0, 0.0, 0.0, 0.0, 0.0, 0.0, 0.0, 0.0, 0.0, 0.0, 0.0, 0.0, 0.0, 0.0, 0.0, 0.0, 0.0, 0.0, 0.0, 0.0, 0.0, 0.0, 0.0, 0.0, 0.0, 0.0, -0.117500852502, -0.0964525885271, -0.0631803615261, -0.0519082539293, -0.170615852686, -0.170615852686, -0.239231602378, -0.239231602378, -0.239231602378, -0.239231602378, -0.304515991739, -0.17317899435, -0.17317899435, -0.124154867283, -0.160825647489, -0.0795868780196, -0.0135661512956, -0.0135661512956, -0.0580462613034, -0.0580462613034, -0.104984965202, -0.104984965202, -0.104984965202, -0.104984965202, -0.0409716152022, -0.0409716152022, -0.0409716152022, -0.0181711497787, 0.0596349655089, -0.0433068403803, -0.0433068403803, -0.0433068403803, -0.0433068403803, -0.0433068403803, -0.0433068403803, -0.0958931566688, -0.30408153362, -0.293473202316, -0.26669321518, -0.289566430926, -0.192033419297, -0.120388449178, -0.149752984978, -0.203329903909, -0.0349481428581, -0.0349481428581, -0.124789348682, -0.0577909875396, -0.0577909875396, -0.0209593010105, -0.0209593010105, 0.0886951817541, 0.117683961103, 0.117683961103, 0.117683961103, 0.282369528842, 0.293363289025, 0.338417691378, 0.173648390891, 0.173648390891, 0.178133113948, 0.178133113948, 0.178133113948, 0.0229245269975,],SGG=[0.0, 0.0, 0.0, 0.0, 0.0, 0.0, 0.0, 0.0, 0.0, 0.0, 0.0, 0.0, 0.0, 0.0, 0.0, 0.0, 0.0, 0.0, 0.0, 0.0, 0.0, 0.0, 0.0, 0.0, 0.0, 0.0, 0.0, 0.0, 0.0, 0.0, 0.0, 0.0, 0.0, 0.0, 0.0, 0.0, 0.0, 0.0, 0.0, 0.0, 0.0, 0.0, 0.0, 0.0, 0.0, 0.0, 0.0, 0.0, 0.0, 0.0, 0.0, 0.0, 0.0, 0.0, 0.0, 0.0, 0.0, 0.0, 0.0, 0.0, 0.0, 0.0, 0.0, 0.0, 0.0, 0.0, 0.0, 0.0, 0.0, 0.0, 0.0, 0.0, 0.0, 0.0, 0.0, 0.0, 0.0, 0.0, 0.0, 0.0, 0.0, 0.0, 0.0, 0.0, 0.0, 0.0, 0.0, 0.0, 0.0, 0.0, 0.0, 0.0, 0.0, 0.0, 0.0, 0.0, 0.0, 0.0, 0.0, 0.0, -0.0496672366478, -0.119348230079, -0.111734081056, -0.154200428907, -0.0725041250614, -0.0725041250614, -0.00577493834202, -0.00577493834202, -0.00577493834202, -0.00577493834202, 0.0781121369261, 0.0583305006268, 0.0583305006268, 0.113207862309, 0.246707040169, 0.258630302859, 0.260310284876, 0.260310284876, 0.206364630629, 0.206364630629, 0.448465593128, 0.448465593128, 0.448465593128, 0.448465593128, 0.37255029366, 0.37255029366, 0.37255029366, 0.245363768626, 0.375435473042, 0.319481065045, 0.319481065045, 0.319481065045, 0.319481065045, 0.319481065045, 0.319481065045, 0.339801167858, 0.398513308673, 0.471488969684, 0.517613758164, 0.471348767196, 0.295857860594, 0.309171049357, 0.343408330527, 0.461664564736, 0.365900112654, 0.365900112654, 0.313704762171, 0.390248253822, 0.390248253822, 0.365163576439, 0.365163576439, 0.35243459315, 0.324675094005, 0.324675094005, 0.324675094005, 0.2999366467, 0.159132490891, 0.286772136412, 0.253745399955, 0.253745399955, 0.123472915738, 0.123472915738, 0.123472915738, 0.0917110629463,],EFA=[0.0, 0.0, 0.0, 0.0, 0.0, 0.0, 0.0, 0.0, 0.0, 0.0, 0.0, 0.0, 0.0, 0.0, 0.0, 0.0, 0.0, 0.0, 0.0, 0.0, 0.0, 0.0, 0.0, 0.0, 0.0, 0.0, 0.0, 0.0, 0.0, 0.0, 0.0, 0.0, 0.0, 0.0, 0.0, 0.0, 0.0, 0.0, 0.0, 0.0, 0.0, 0.0, 0.0, 0.0, 0.0, 0.0, 0.0, 0.0, 0.0, 0.0, 0.0, 0.0, 0.0, 0.0, 0.0, 0.0, 0.0, 0.0, 0.0, 0.0, 0.0, 0.0, 0.0, 0.0, 0.0, 0.0, 0.0, 0.0, 0.0, 0.0, 0.0, 0.0, 0.0, 0.0, 0.0, 0.0, 0.0, 0.0, 0.0, 0.0, 0.0, 0.0, 0.0, 0.0, 0.0, 0.0, 0.0, 0.0, 0.0, 0.0, 0.0, 0.0, 0.0, 0.0, 0.0, 0.0, 0.0, 0.0, 0.0, 0.0, -0.0712031844257, -0.0254081091417, -0.0464991236796, 0.107552340573, 0.0619308283816, 0.0619308283816, -0.028146307571, -0.028146307571, -0.028146307571, -0.028146307571, -0.112108451893, -0.162068921019, -0.162068921019, -0.263127392263, -0.267613855423, -0.0509671119332, 0.00575899161392, 0.00575899161392, -0.0241669545606, -0.0241669545606, 0.057686432051, 0.057686432051, 0.057686432051, 0.057686432051, 0.158403688527, 0.158403688527, 0.158403688527, 0.153646607348, 0.0970436587601, -0.0168337847237, -0.0168337847237, -0.0168337847237, -0.0168337847237, -0.0168337847237, -0.0168337847237, -0.020923832648, 0.00961818068129, 0.0056530867568, 0.0806524668613, 0.0993397563174, 0.216071487377, 0.228515516169, 0.282922498963, 0.187216639273, 0.150820810765, 0.150820810765, 0.104397581296, 0.107206940926, 0.107206940926, -0.00690722373483, -0.00690722373483, 0.108968828222, 0.156066726072, 0.156066726072, 0.156066726072, 0.0313033820464, 0.109140712611, 0.0783122472757, -0.0203932282469, -0.0203932282469, 0.0375674626488, 0.0375674626488, 0.0375674626488, 0.0834300017312,],LQD=[0.0, 0.0, 0.0, 0.0, 0.0, 0.0, 0.0, 0.0, 0.0, 0.0, 0.0, 0.0, 0.0, 0.0, 0.0, 0.0, 0.0, 0.0, 0.0, 0.0, 0.0, 0.0, 0.0, 0.0, 0.0, 0.0, 0.0, 0.0, 0.0, 0.0, 0.0, 0.0, 0.0, 0.0, 0.0, 0.0, 0.0, 0.0, 0.0, 0.0, 0.0, 0.0, 0.0, 0.0, 0.0, 0.0, 0.0, 0.0, 0.0, 0.0, 0.0, 0.0, 0.0, 0.0, 0.0, 0.0, 0.0, 0.0, 0.0, 0.0, 0.0, 0.0, 0.0, 0.0, 0.0, 0.0, 0.0, 0.0, 0.0, 0.0, 0.0, 0.0, 0.0, 0.0, 0.0, 0.0, 0.0, 0.0, 0.0, 0.0, 0.0, 0.0, 0.0, 0.0, 0.0, 0.0, 0.0, 0.0, 0.0, 0.0, 0.0, 0.0, 0.0, 0.0, 0.0, 0.0, 0.0, 0.0, 0.0, 0.0, 0.0217024160171, 0.209914849994, 0.247059922975, 0.202806067102, 0.070235252098, 0.070235252098, -0.00230356568089, -0.00230356568089, -0.00230356568089, -0.00230356568089, 0.162279768895, 0.149108978956, 0.149108978956, 0.162167915021, 0.116945814788, 0.160718582339, 0.188213822558, 0.188213822558, 0.309853816463, 0.309853816463, 0.325675316446, 0.325675316446, 0.325675316446, 0.325675316446, 0.398131823542, 0.398131823542, 0.398131823542, 0.239992749844, 0.208473008524, 0.187382253839, 0.187382253839, 0.187382253839, 0.187382253839, 0.187382253839, 0.187382253839, -0.0696139798366, -0.263391872236, -0.26943654033, -0.254009814547, -0.269980429139, -0.319617975598, -0.285730851933, -0.41116661853, -0.328576634843, -0.336378174781, -0.336378174781, -0.421571810561, -0.516316580054, -0.516316580054, -0.53112816141, -0.53112816141, -0.607268315115, -0.594752966059, -0.594752966059, -0.594752966059, -0.747576208781, -0.815367239589, -0.687305500424, -0.737139496931, -0.737139496931, -0.620111979074, -0.620111979074, -0.620111979074, -0.734620769738,],PPLT=[0.0, 0.0, 0.0, 0.0, 0.0, 0.0, 0.0, 0.0, 0.0, 0.0, 0.0, 0.0, 0.0, 0.0, 0.0, 0.0, 0.0, 0.0, 0.0, 0.0, 0.0, 0.0, 0.0, 0.0, 0.0, 0.0, 0.0, 0.0, 0.0, 0.0, 0.0, 0.0, 0.0, 0.0, 0.0, 0.0, 0.0, 0.0, 0.0, 0.0, 0.0, 0.0, 0.0, 0.0, 0.0, 0.0, 0.0, 0.0, 0.0, 0.0, 0.0, 0.0, 0.0, 0.0, 0.0, 0.0, 0.0, 0.0, 0.0, 0.0, 0.0, 0.0, 0.0, 0.0, 0.0, 0.0, 0.0, 0.0, 0.0, 0.0, 0.0, 0.0, 0.0, 0.0, 0.0, 0.0, 0.0, 0.0, 0.0, 0.0, 0.0, 0.0, 0.0, 0.0, 0.0, 0.0, 0.0, 0.0, 0.0, 0.0, 0.0, 0.0, 0.0, 0.0, 0.0, 0.0, 0.0, 0.0, 0.0, 0.0, 0.00626210396726, 0.0204831516209, -0.118933986848, 0.0361629288273, -0.0081516725053, -0.0081516725053, 0.0590361141374, 0.0590361141374, 0.0590361141374, 0.0590361141374, 0.108910797669, 0.0475964893822, 0.0475964893822, 0.0120324961727, 0.0516080619662, 0.0970239449253, 0.120640415758, 0.120640415758, 0.118603064667, 0.118603064667, 0.139600381993, 0.139600381993, 0.139600381993, 0.139600381993, 0.155590250482, 0.155590250482, 0.155590250482, 0.313949813898, 0.33187042528, 0.262873197666, 0.262873197666, 0.262873197666, 0.262873197666, 0.262873197666, 0.262873197666, 0.426954276092, 0.316894872969, 0.216615399861, 0.248484962001, 0.31734130548, 0.349713176258, 0.27888342193, 0.193452476784, 0.0749682794856, -0.0655955312307, -0.0655955312307, -0.131421122237, -0.00513031153146, -0.00513031153146, -0.0246117706681, -0.0246117706681, -0.0461148224848, 0.025684092376, 0.025684092376, 0.025684092376, 0.112448652233, -0.104318314659, -0.0404197497168, 0.0264641030119, 0.0264641030119, 0.16326091389, 0.16326091389, 0.16326091389, 0.281541276002,],HYG=[0.0, 0.0, 0.0, 0.0, 0.0, 0.0, 0.0, 0.0, 0.0, 0.0, 0.0, 0.0, 0.0, 0.0, 0.0, 0.0, 0.0, 0.0, 0.0, 0.0, 0.0, 0.0, 0.0, 0.0, 0.0, 0.0, 0.0, 0.0, 0.0, 0.0, 0.0, 0.0, 0.0, 0.0, 0.0, 0.0, 0.0, 0.0, 0.0, 0.0, 0.0, 0.0, 0.0, 0.0, 0.0, 0.0, 0.0, 0.0, 0.0, 0.0, 0.0, 0.0, 0.0, 0.0, 0.0, 0.0, 0.0, 0.0, 0.0, 0.0, 0.0, 0.0, 0.0, 0.0, 0.0, 0.0, 0.0, 0.0, 0.0, 0.0, 0.0, 0.0, 0.0, 0.0, 0.0, 0.0, 0.0, 0.0, 0.0, 0.0, 0.0, 0.0, 0.0, 0.0, 0.0, 0.0, 0.0, 0.0, 0.0, 0.0, 0.0, 0.0, 0.0, 0.0, 0.0, 0.0, 0.0, 0.0, 0.0, 0.0, 0.159167530065, 0.10048326183, 0.049170614388, 0.0299638374192, 0.0532853142705, 0.0532853142705, -0.0832606285059, -0.0832606285059, -0.0832606285059, -0.0832606285059, 0.00573016748328, -0.0843706962304, -0.0843706962304, 0.0509720109548, 0.0649398183527, -0.0323690366257, 0.039379349984, 0.039379349984, 0.0947516801719, 0.0947516801719, 0.135201080931, 0.135201080931, 0.135201080931, 0.135201080931, 0.111374417561, 0.111374417561, 0.111374417561, -0.079090704568, -0.183639126773, -0.480715580214, -0.480715580214, -0.480715580214, -0.480715580214, -0.480715580214, -0.480715580214, -0.502697273686, -0.480848274643, -0.563772412367, -0.552172317426, -0.396804021214, -0.557544342875, -0.585279623095, -0.533780323588, -0.653316411428, -0.635133716396, -0.635133716396, -0.646054848597, -0.583271066059, -0.583271066059, -0.552889988438, -0.552889988438, -0.528000119651, -0.424066610057, -0.424066610057, -0.424066610057, -0.503208740587, -0.474774557274, -0.550249706516, -0.597051204065, -0.597051204065, -0.706444319249, -0.706444319249, -0.706444319249, -0.837647490996,],UUP=[0.0, 0.0, 0.0, 0.0, 0.0, 0.0, 0.0, 0.0, 0.0, 0.0, 0.0, 0.0, 0.0, 0.0, 0.0, 0.0, 0.0, 0.0, 0.0, 0.0, 0.0, 0.0, 0.0, 0.0, 0.0, 0.0, 0.0, 0.0, 0.0, 0.0, 0.0, 0.0, 0.0, 0.0, 0.0, 0.0, 0.0, 0.0, 0.0, 0.0, 0.0, 0.0, 0.0, 0.0, 0.0, 0.0, 0.0, 0.0, 0.0, 0.0, 0.0, 0.0, 0.0, 0.0, 0.0, 0.0, 0.0, 0.0, 0.0, 0.0, 0.0, 0.0, 0.0, 0.0, 0.0, 0.0, 0.0, 0.0, 0.0, 0.0, 0.0, 0.0, 0.0, 0.0, 0.0, 0.0, 0.0, 0.0, 0.0, 0.0, 0.0, 0.0, 0.0, 0.0, 0.0, 0.0, 0.0, 0.0, 0.0, 0.0, 0.0, 0.0, 0.0, 0.0, 0.0, 0.0, 0.0, 0.0, 0.0, 0.0, -0.0488232372875, -0.104088954162, -0.0780343682664, -0.0138587183998, -0.0190250366287, -0.0190250366287, -0.0611139328741, -0.0611139328741, -0.0611139328741, -0.0611139328741, -0.113393611255, -0.282731878254, -0.282731878254, -0.218147286249, -0.390664292522, -0.286107872346, -0.255271063368, -0.255271063368, -0.237283122504, -0.237283122504, -0.180036567427, -0.180036567427, -0.180036567427, -0.180036567427, -0.109775217355, -0.109775217355, -0.109775217355, -0.197486944765, -0.114399436508, -0.231604604834, -0.231604604834, -0.231604604834, -0.231604604834, -0.231604604834, -0.231604604834, -0.156272686235, 0.0175976117081, 0.0198928483613, 0.163301781144, 0.241086868756, 0.107780091602, 0.0271327515489, 0.202941896209, 0.327511496048, 0.400374718058, 0.400374718058, 0.579102143507, 0.550893404148, 0.550893404148, 0.666994544696, 0.666994544696, 0.577621477681, 0.553430797308, 0.553430797308, 0.553430797308, 0.602927214072, 0.558570559181, 0.506743529268, 0.52397960957, 0.52397960957, 0.594835754717, 0.594835754717, 0.594835754717, 0.747863825141,],FXY=[0.0, 0.0, 0.0, 0.0, 0.0, 0.0, 0.0, 0.0, 0.0, 0.0, 0.0, 0.0, 0.0, 0.0, 0.0, 0.0, 0.0, 0.0, 0.0, 0.0, 0.0, 0.0, 0.0, 0.0, 0.0, 0.0, 0.0, 0.0, 0.0, 0.0, 0.0, 0.0, 0.0, 0.0, 0.0, 0.0, 0.0, 0.0, 0.0, 0.0, 0.0, 0.0, 0.0, 0.0, 0.0, 0.0, 0.0, 0.0, 0.0, 0.0, 0.0, 0.0, 0.0, 0.0, 0.0, 0.0, 0.0, 0.0, 0.0, 0.0, 0.0, 0.0, 0.0, 0.0, 0.0, 0.0, 0.0, 0.0, 0.0, 0.0, 0.0, 0.0, 0.0, 0.0, 0.0, 0.0, 0.0, 0.0, 0.0, 0.0, 0.0, 0.0, 0.0, 0.0, 0.0, 0.0, 0.0, 0.0, 0.0, 0.0, 0.0, 0.0, 0.0, 0.0, 0.0, 0.0, 0.0, 0.0, 0.0, 0.0, 0.0385659827929, -0.0424652358877, -0.0828892803539, -0.0777140595693, -0.0776307336371, -0.0776307336371, 0.0099002537135, 0.0099002537135, 0.0099002537135, 0.0099002537135, -0.0176762326205, 0.0749352426469, 0.0749352426469, 0.0369247977946, 0.0834738623175, 0.105526591786, 0.291267699785, 0.291267699785, 0.158949459847, 0.158949459847, 0.0683183846785, 0.0683183846785, 0.0683183846785, 0.0683183846785, -0.0168536570201, -0.0168536570201, -0.0168536570201, 0.115462887444, 0.119380976167, 0.10423807976, 0.10423807976, 0.10423807976, 0.10423807976, 0.10423807976, 0.10423807976, 0.19979806358, 0.190153054848, 0.202654916586, 0.156616121305, 0.0682004759059, 0.218887330177, 0.30814856892, 0.364545794419, 0.334694763583, 0.173453918011, 0.173453918011, 0.312316534336, 0.371915869265, 0.371915869265, 0.312512882188, 0.312512882188, 0.134809616345, 0.0882325833587, 0.0882325833587, 0.0882325833587, 0.0388305089575, 0.244076717608, 0.172171217467, 0.0355439880185, 0.0355439880185, 0.0165311602173, 0.0165311602173, 0.0165311602173, -0.0915211566001,],FXE=[0.0, 0.0, 0.0, 0.0, 0.0, 0.0, 0.0, 0.0, 0.0, 0.0, 0.0, 0.0, 0.0, 0.0, 0.0, 0.0, 0.0, 0.0, 0.0, 0.0, 0.0, 0.0, 0.0, 0.0, 0.0, 0.0, 0.0, 0.0, 0.0, 0.0, 0.0, 0.0, 0.0, 0.0, 0.0, 0.0, 0.0, 0.0, 0.0, 0.0, 0.0, 0.0, 0.0, 0.0, 0.0, 0.0, 0.0, 0.0, 0.0, 0.0, 0.0, 0.0, 0.0, 0.0, 0.0, 0.0, 0.0, 0.0, 0.0, 0.0, 0.0, 0.0, 0.0, 0.0, 0.0, 0.0, 0.0, 0.0, 0.0, 0.0, 0.0, 0.0, 0.0, 0.0, 0.0, 0.0, 0.0, 0.0, 0.0, 0.0, 0.0, 0.0, 0.0, 0.0, 0.0, 0.0, 0.0, 0.0, 0.0, 0.0, 0.0, 0.0, 0.0, 0.0, 0.0, 0.0, 0.0, 0.0, 0.0, 0.0, -0.103242650082, 0.0341612284104, 0.204359345678, 0.304745231886, 0.238232639758, 0.238232639758, 0.410474014472, 0.410474014472, 0.410474014472, 0.410474014472, 0.377394074417, 0.392923044455, 0.392923044455, 0.381176748014, 0.389376671117, 0.432325758119, 0.361905605019, 0.361905605019, 0.362292867951, 0.362292867951, 0.315906118843, 0.315906118843, 0.315906118843, 0.315906118843, 0.276638297317, 0.276638297317, 0.276638297317, 0.251956289821, 0.19000032935, 0.312169323021, 0.312169323021, 0.312169323021, 0.312169323021, 0.312169323021, 0.312169323021, 0.372045297948, 0.380965176998, 0.454001790546, 0.438244135316, 0.301046997821, 0.313763894518, 0.392174120416, 0.18905133202, 0.228823717058, 0.12831699977, 0.12831699977, 0.0195325486901, 0.126596413068, 0.126596413068, 0.263005521486, 0.263005521486, 0.369499342378, 0.325604232467, 0.325604232467, 0.325604232467, 0.500988255116, 0.519269959877, 0.412152616772, 0.581902464487, 0.581902464487, 0.664269416123, 0.664269416123, 0.664269416123, 0.509220664332,],VWO=[0.0, 0.0, 0.0, 0.0, 0.0, 0.0, 0.0, 0.0, 0.0, 0.0, 0.0, 0.0, 0.0, 0.0, 0.0, 0.0, 0.0, 0.0, 0.0, 0.0, 0.0, 0.0, 0.0, 0.0, 0.0, 0.0, 0.0, 0.0, 0.0, 0.0, 0.0, 0.0, 0.0, 0.0, 0.0, 0.0, 0.0, 0.0, 0.0, 0.0, 0.0, 0.0, 0.0, 0.0, 0.0, 0.0, 0.0, 0.0, 0.0, 0.0, 0.0, 0.0, 0.0, 0.0, 0.0, 0.0, 0.0, 0.0, 0.0, 0.0, 0.0, 0.0, 0.0, 0.0, 0.0, 0.0, 0.0, 0.0, 0.0, 0.0, 0.0, 0.0, 0.0, 0.0, 0.0, 0.0, 0.0, 0.0, 0.0, 0.0, 0.0, 0.0, 0.0, 0.0, 0.0, 0.0, 0.0, 0.0, 0.0, 0.0, 0.0, 0.0, 0.0, 0.0, 0.0, 0.0, 0.0, 0.0, 0.0, 0.0, 0.0560607245185, 0.133829440701, -0.035707126406, -0.0404801112866, 0.0420308358054, 0.0420308358054, 0.056955288517, 0.056955288517, 0.056955288517, 0.056955288517, 0.0577933311341, 0.089473401346, 0.089473401346, 0.0781792712501, 0.147070008099, 0.243226309674, 0.224408271355, 0.224408271355, 0.283556174453, 0.283556174453, 0.260551166578, 0.260551166578, 0.260551166578, 0.260551166578, 0.117774455325, 0.117774455325, 0.117774455325, 0.165615551013, 0.267890703762, 0.211233665224, 0.211233665224, 0.211233665224, 0.211233665224, 0.211233665224, 0.211233665224, 0.27683970965, 0.36580446014, 0.368609566641, 0.478630524047, 0.726856000513, 0.855103169256, 0.878305070846, 0.75890959735, 0.892360646693, 0.878362670675, 0.878362670675, 0.785264235206, 0.785392547151, 0.785392547151, 0.898308559638, 0.898308559638, 0.876518361254, 1.05433743372, 1.05433743372, 1.05433743372, 1.1091902183, 1.22441134023, 1.46250314953, 1.5372056068, 1.5372056068, 1.50404701903, 1.50404701903, 1.50404701903, 1.57925537617,],UCO=[0.0, 0.0, 0.0, 0.0, 0.0, 0.0, 0.0, 0.0, 0.0, 0.0, 0.0, 0.0, 0.0, 0.0, 0.0, 0.0, 0.0, 0.0, 0.0, 0.0, 0.0, 0.0, 0.0, 0.0, 0.0, 0.0, 0.0, 0.0, 0.0, 0.0, 0.0, 0.0, 0.0, 0.0, 0.0, 0.0, 0.0, 0.0, 0.0, 0.0, 0.0, 0.0, 0.0, 0.0, 0.0, 0.0, 0.0, 0.0, 0.0, 0.0, 0.0, 0.0, 0.0, 0.0, 0.0, 0.0, 0.0, 0.0, 0.0, 0.0, 0.0, 0.0, 0.0, 0.0, 0.0, 0.0, 0.0, 0.0, 0.0, 0.0, 0.0, 0.0, 0.0, 0.0, 0.0, 0.0, 0.0, 0.0, 0.0, 0.0, 0.0, 0.0, 0.0, 0.0, 0.0, 0.0, 0.0, 0.0, 0.0, 0.0, 0.0, 0.0, 0.0, 0.0, 0.0, 0.0, 0.0, 0.0, 0.0, 0.0, 0.0413095607959, 0.0821238829496, 0.14021519647, 0.268422911868, 0.20219583764, 0.20219583764, 0.166551552324, 0.166551552324, 0.166551552324, 0.166551552324, 0.351835227896, 0.319136123685, 0.319136123685, 0.227938339549, 0.227138471768, 0.174492061784, 0.248722172641, 0.248722172641, 0.239795832681, 0.239795832681, 0.224535144928, 0.224535144928, 0.224535144928, 0.224535144928, 0.0901888519935, 0.0901888519935, 0.0901888519935, 0.0793181038519, 0.163308467342, 0.120072399146, 0.120072399146, 0.120072399146, 0.120072399146, 0.120072399146, 0.120072399146, 0.0706449380462, -0.0213760683759, -0.0892681466366, 0.10778030296, 0.0396089533102, -0.0849645064976, -0.0201747221135, -0.169389028402, -0.125607963129, -0.0617439279609, -0.0617439279609, -0.0213273745451, 0.0783735144225, 0.0783735144225, 0.0590674962434, 0.0590674962434, 0.076266938017, 0.116420059644, 0.116420059644, 0.116420059644, 0.102808316713, -0.0357308423259, 0.0193440466691, -0.0340847439032, -0.0340847439032, -0.0629635387782, -0.0629635387782, -0.0629635387782, -0.174746875286,],AGG=[0.0, 0.0, 0.0, 0.0, 0.0, 0.0, 0.0, 0.0, 0.0, 0.0, 0.0, 0.0, 0.0, 0.0, 0.0, 0.0, 0.0, 0.0, 0.0, 0.0, 0.0, 0.0, 0.0, 0.0, 0.0, 0.0, 0.0, 0.0, 0.0, 0.0, 0.0, 0.0, 0.0, 0.0, 0.0, 0.0, 0.0, 0.0, 0.0, 0.0, 0.0, 0.0, 0.0, 0.0, 0.0, 0.0, 0.0, 0.0, 0.0, 0.0, 0.0, 0.0, 0.0, 0.0, 0.0, 0.0, 0.0, 0.0, 0.0, 0.0, 0.0, 0.0, 0.0, 0.0, 0.0, 0.0, 0.0, 0.0, 0.0, 0.0, 0.0, 0.0, 0.0, 0.0, 0.0, 0.0, 0.0, 0.0, 0.0, 0.0, 0.0, 0.0, 0.0, 0.0, 0.0, 0.0, 0.0, 0.0, 0.0, 0.0, 0.0, 0.0, 0.0, 0.0, 0.0, 0.0, 0.0, 0.0, 0.0, 0.0, 0.0346977707297, -0.0763387761953, -0.0243699058135, -0.0282315188998, 0.18677920212, 0.18677920212, 0.202506899564, 0.202506899564, 0.202506899564, 0.202506899564, 0.162067843322, 0.0643736091109, 0.0643736091109, -0.237965761811, -0.325078340222, -0.222064052999, -0.380717344647, -0.380717344647, -0.342410533813, -0.342410533813, -0.259742774825, -0.259742774825, -0.259742774825, -0.259742774825, -0.292716820182, -0.292716820182, -0.292716820182, -0.302773672115, -0.0677844805687, -0.2629530852, -0.2629530852, -0.2629530852, -0.2629530852, -0.2629530852, -0.2629530852, -0.128085272312, -0.149857948349, -0.127045417491, -0.347521966957, -0.212290970521, -0.31704052344, -0.373623286317, -0.274182596452, -0.270145015916, -0.0603917168964, -0.0603917168964, -0.0577456756395, 0.0702360379238, 0.0702360379238, 0.0533079964978, 0.0533079964978, -0.0521583388103, -0.0614698313359, -0.0614698313359, -0.0614698313359, -0.0951377646832, -0.0683703046829, 0.0066677395535, 0.0231566690397, 0.0231566690397, 0.0657405024367, 0.0657405024367, 0.0657405024367, 0.0563179285083,],JO=[0.0, 0.0, 0.0, 0.0, 0.0, 0.0, 0.0, 0.0, 0.0, 0.0, 0.0, 0.0, 0.0, 0.0, 0.0, 0.0, 0.0, 0.0, 0.0, 0.0, 0.0, 0.0, 0.0, 0.0, 0.0, 0.0, 0.0, 0.0, 0.0, 0.0, 0.0, 0.0, 0.0, 0.0, 0.0, 0.0, 0.0, 0.0, 0.0, 0.0, 0.0, 0.0, 0.0, 0.0, 0.0, 0.0, 0.0, 0.0, 0.0, 0.0, 0.0, 0.0, 0.0, 0.0, 0.0, 0.0, 0.0, 0.0, 0.0, 0.0, 0.0, 0.0, 0.0, 0.0, 0.0, 0.0, 0.0, 0.0, 0.0, 0.0, 0.0, 0.0, 0.0, 0.0, 0.0, 0.0, 0.0, 0.0, 0.0, 0.0, 0.0, 0.0, 0.0, 0.0, 0.0, 0.0, 0.0, 0.0, 0.0, 0.0, 0.0, 0.0, 0.0, 0.0, 0.0, 0.0, 0.0, 0.0, 0.0, 0.0, -0.0532948895003, -0.212033204912, -0.189564277289, -0.133804435842, -0.0333432070947, -0.0333432070947, 0.0310193098877, 0.0310193098877, 0.0310193098877, 0.0310193098877, -0.0391680978851, -0.038166403277, -0.038166403277, 0.0380724145703, 0.0233195465818, 0.0043275799075, -0.15277455996, -0.15277455996, -0.036200322148, -0.036200322148, 0.0534956465622, 0.0534956465622, 0.0534956465622, 0.0534956465622, 0.0420837469731, 0.0420837469731, 0.0420837469731, 0.122031495727, -0.0152904737898, 0.0907899166745, 0.0907899166745, 0.0907899166745, 0.0907899166745, 0.0907899166745, 0.0907899166745, -0.00171559728181, 0.0490302695286, 0.114437621989, 0.0469398024406, -0.0469687272399, -0.125192658632, -0.166421198666, -0.0351320080869, -0.0735592996044, 0.0575084459629, 0.0575084459629, 0.104617697146, 0.112784658726, 0.112784658726, -0.0256261173191, -0.0256261173191, -0.365621933839, -0.23584659942, -0.23584659942, -0.23584659942, -0.34315861261, -0.342154944088, -0.248335740535, -0.350370130474, -0.350370130474, -0.30122422634, -0.30122422634, -0.30122422634, -0.268254357643,],CEW=[0.0, 0.0, 0.0, 0.0, 0.0, 0.0, 0.0, 0.0, 0.0, 0.0, 0.0, 0.0, 0.0, 0.0, 0.0, 0.0, 0.0, 0.0, 0.0, 0.0, 0.0, 0.0, 0.0, 0.0, 0.0, 0.0, 0.0, 0.0, 0.0, 0.0, 0.0, 0.0, 0.0, 0.0, 0.0, 0.0, 0.0, 0.0, 0.0, 0.0, 0.0, 0.0, 0.0, 0.0, 0.0, 0.0, 0.0, 0.0, 0.0, 0.0, 0.0, 0.0, 0.0, 0.0, 0.0, 0.0, 0.0, 0.0, 0.0, 0.0, 0.0, 0.0, 0.0, 0.0, 0.0, 0.0, 0.0, 0.0, 0.0, 0.0, 0.0, 0.0, 0.0, 0.0, 0.0, 0.0, 0.0, 0.0, 0.0, 0.0, 0.0, 0.0, 0.0, 0.0, 0.0, 0.0, 0.0, 0.0, 0.0, 0.0, 0.0, 0.0, 0.0, 0.0, 0.0, 0.0, 0.0, 0.0, 0.0, 0.0, 0.109194629289, 0.0896241073252, 0.0748357929333, 0.0951658321373, 0.222899987675, 0.222899987675, 0.186763769332, 0.186763769332, 0.186763769332, 0.186763769332, 0.186536401942, 0.282015677477, 0.282015677477, 0.0919329627223, -0.0932886769633, -0.15744331304, -0.368435072423, -0.368435072423, -0.456494813279, -0.456494813279, -0.552066498944, -0.552066498944, -0.552066498944, -0.552066498944, -0.628261513865, -0.628261513865, -0.628261513865, -0.544304157923, -0.58966722604, -0.499826869871, -0.499826869871, -0.499826869871, -0.499826869871, -0.499826869871, -0.499826869871, -0.457511237034, -0.652927422932, -0.703652842313, -0.755821984385, -0.935603907997, -0.977615665903, -0.872563159212, -0.773459047904, -0.781610359557, -0.749029587729, -0.749029587729, -0.68127252919, -0.592122808626, -0.592122808626, -0.53747401886, -0.53747401886, -0.369371967479, -0.473548924211, -0.473548924211, -0.473548924211, -0.477844452218, -0.605081326345, -0.601912953384, -0.599931614768, -0.599931614768, -0.373468298297, -0.373468298297, -0.373468298297, -0.455210228991,])\n",
      "\n"
     ]
    }
   ],
   "source": [
    "s = 'dict('\n",
    "for t, a in ticker_to_trace.items():\n",
    "    s += t + '=['\n",
    "    for x in a:\n",
    "        s += str(x) + ', '\n",
    "    s = s[: -1]\n",
    "    s += '],'\n",
    "s = s[:-1]\n",
    "s += ')\\n'\n",
    "print(s)"
   ]
  },
  {
   "cell_type": "code",
   "execution_count": 407,
   "metadata": {
    "collapsed": false
   },
   "outputs": [
    {
     "ename": "KeyError",
     "evalue": "('b_security', 'occurred at index 2000-06-30 00:00:00')",
     "output_type": "error",
     "traceback": [
      "\u001b[0;31m---------------------------------------------------------------------------\u001b[0m",
      "\u001b[0;31mKeyError\u001b[0m                                  Traceback (most recent call last)",
      "\u001b[0;32m<ipython-input-407-41d8ea9b524f>\u001b[0m in \u001b[0;36m<module>\u001b[0;34m()\u001b[0m\n\u001b[0;32m----> 1\u001b[0;31m \u001b[0mcombined\u001b[0m\u001b[0;34m[\u001b[0m\u001b[0;34m'prediction'\u001b[0m\u001b[0;34m]\u001b[0m \u001b[0;34m=\u001b[0m \u001b[0mcombined\u001b[0m\u001b[0;34m.\u001b[0m\u001b[0mapply\u001b[0m\u001b[0;34m(\u001b[0m\u001b[0mcalc_prediction_helper\u001b[0m\u001b[0;34m,\u001b[0m \u001b[0maxis\u001b[0m\u001b[0;34m=\u001b[0m\u001b[0;36m1\u001b[0m\u001b[0;34m)\u001b[0m\u001b[0;34m\u001b[0m\u001b[0m\n\u001b[0m",
      "\u001b[0;32m/Users/benjaminglickenhaus/anaconda/lib/python3.5/site-packages/pandas/core/frame.py\u001b[0m in \u001b[0;36mapply\u001b[0;34m(self, func, axis, broadcast, raw, reduce, args, **kwds)\u001b[0m\n\u001b[1;32m   4260\u001b[0m                         \u001b[0mf\u001b[0m\u001b[0;34m,\u001b[0m \u001b[0maxis\u001b[0m\u001b[0;34m,\u001b[0m\u001b[0;34m\u001b[0m\u001b[0m\n\u001b[1;32m   4261\u001b[0m                         \u001b[0mreduce\u001b[0m\u001b[0;34m=\u001b[0m\u001b[0mreduce\u001b[0m\u001b[0;34m,\u001b[0m\u001b[0;34m\u001b[0m\u001b[0m\n\u001b[0;32m-> 4262\u001b[0;31m                         ignore_failures=ignore_failures)\n\u001b[0m\u001b[1;32m   4263\u001b[0m             \u001b[0;32melse\u001b[0m\u001b[0;34m:\u001b[0m\u001b[0;34m\u001b[0m\u001b[0m\n\u001b[1;32m   4264\u001b[0m                 \u001b[0;32mreturn\u001b[0m \u001b[0mself\u001b[0m\u001b[0;34m.\u001b[0m\u001b[0m_apply_broadcast\u001b[0m\u001b[0;34m(\u001b[0m\u001b[0mf\u001b[0m\u001b[0;34m,\u001b[0m \u001b[0maxis\u001b[0m\u001b[0;34m)\u001b[0m\u001b[0;34m\u001b[0m\u001b[0m\n",
      "\u001b[0;32m/Users/benjaminglickenhaus/anaconda/lib/python3.5/site-packages/pandas/core/frame.py\u001b[0m in \u001b[0;36m_apply_standard\u001b[0;34m(self, func, axis, ignore_failures, reduce)\u001b[0m\n\u001b[1;32m   4356\u001b[0m             \u001b[0;32mtry\u001b[0m\u001b[0;34m:\u001b[0m\u001b[0;34m\u001b[0m\u001b[0m\n\u001b[1;32m   4357\u001b[0m                 \u001b[0;32mfor\u001b[0m \u001b[0mi\u001b[0m\u001b[0;34m,\u001b[0m \u001b[0mv\u001b[0m \u001b[0;32min\u001b[0m \u001b[0menumerate\u001b[0m\u001b[0;34m(\u001b[0m\u001b[0mseries_gen\u001b[0m\u001b[0;34m)\u001b[0m\u001b[0;34m:\u001b[0m\u001b[0;34m\u001b[0m\u001b[0m\n\u001b[0;32m-> 4358\u001b[0;31m                     \u001b[0mresults\u001b[0m\u001b[0;34m[\u001b[0m\u001b[0mi\u001b[0m\u001b[0;34m]\u001b[0m \u001b[0;34m=\u001b[0m \u001b[0mfunc\u001b[0m\u001b[0;34m(\u001b[0m\u001b[0mv\u001b[0m\u001b[0;34m)\u001b[0m\u001b[0;34m\u001b[0m\u001b[0m\n\u001b[0m\u001b[1;32m   4359\u001b[0m                     \u001b[0mkeys\u001b[0m\u001b[0;34m.\u001b[0m\u001b[0mappend\u001b[0m\u001b[0;34m(\u001b[0m\u001b[0mv\u001b[0m\u001b[0;34m.\u001b[0m\u001b[0mname\u001b[0m\u001b[0;34m)\u001b[0m\u001b[0;34m\u001b[0m\u001b[0m\n\u001b[1;32m   4360\u001b[0m             \u001b[0;32mexcept\u001b[0m \u001b[0mException\u001b[0m \u001b[0;32mas\u001b[0m \u001b[0me\u001b[0m\u001b[0;34m:\u001b[0m\u001b[0;34m\u001b[0m\u001b[0m\n",
      "\u001b[0;32m<ipython-input-402-7c7ae0d8e2dd>\u001b[0m in \u001b[0;36mcalc_prediction_helper\u001b[0;34m(row)\u001b[0m\n\u001b[1;32m      1\u001b[0m \u001b[0;32mdef\u001b[0m \u001b[0mcalc_prediction_helper\u001b[0m\u001b[0;34m(\u001b[0m\u001b[0mrow\u001b[0m\u001b[0;34m)\u001b[0m\u001b[0;34m:\u001b[0m\u001b[0;34m\u001b[0m\u001b[0m\n\u001b[0;32m----> 2\u001b[0;31m     \u001b[0mrt\u001b[0m \u001b[0;34m=\u001b[0m \u001b[0mrow\u001b[0m\u001b[0;34m.\u001b[0m\u001b[0mmomentum\u001b[0m \u001b[0;34m*\u001b[0m \u001b[0mnp\u001b[0m\u001b[0;34m.\u001b[0m\u001b[0mmean\u001b[0m\u001b[0;34m(\u001b[0m\u001b[0mtrace\u001b[0m\u001b[0;34m[\u001b[0m\u001b[0;34m'a_security'\u001b[0m\u001b[0;34m]\u001b[0m\u001b[0;34m[\u001b[0m\u001b[0;34m:\u001b[0m\u001b[0;34m,\u001b[0m \u001b[0mrow\u001b[0m\u001b[0;34m.\u001b[0m\u001b[0msecurity_enc\u001b[0m\u001b[0;34m]\u001b[0m\u001b[0;34m)\u001b[0m \u001b[0;34m+\u001b[0m \u001b[0mnp\u001b[0m\u001b[0;34m.\u001b[0m\u001b[0mmean\u001b[0m\u001b[0;34m(\u001b[0m\u001b[0mtrace\u001b[0m\u001b[0;34m[\u001b[0m\u001b[0;34m'b_security'\u001b[0m\u001b[0;34m]\u001b[0m\u001b[0;34m[\u001b[0m\u001b[0;34m:\u001b[0m\u001b[0;34m,\u001b[0m \u001b[0mrow\u001b[0m\u001b[0;34m.\u001b[0m\u001b[0msecurity_enc\u001b[0m\u001b[0;34m]\u001b[0m\u001b[0;34m)\u001b[0m\u001b[0;34m\u001b[0m\u001b[0m\n\u001b[0m\u001b[1;32m      3\u001b[0m \u001b[0;31m#     print(\"{} = {} * {} + {}\".format(rt, row.momentum,\u001b[0m\u001b[0;34m\u001b[0m\u001b[0;34m\u001b[0m\u001b[0m\n\u001b[1;32m      4\u001b[0m \u001b[0;31m#                                      np.mean(trace['a_security'][:, row.security_enc]),\u001b[0m\u001b[0;34m\u001b[0m\u001b[0;34m\u001b[0m\u001b[0m\n\u001b[1;32m      5\u001b[0m \u001b[0;31m#                                     np.mean(trace['b_security'][:, row.security_enc])))\u001b[0m\u001b[0;34m\u001b[0m\u001b[0;34m\u001b[0m\u001b[0m\n",
      "\u001b[0;32m/Users/benjaminglickenhaus/anaconda/lib/python3.5/site-packages/pymc3/backends/base.py\u001b[0m in \u001b[0;36m__getitem__\u001b[0;34m(self, idx)\u001b[0m\n\u001b[1;32m    190\u001b[0m             \u001b[0mvar\u001b[0m \u001b[0;34m=\u001b[0m \u001b[0midx\u001b[0m\u001b[0;34m\u001b[0m\u001b[0m\n\u001b[1;32m    191\u001b[0m             \u001b[0mburn\u001b[0m\u001b[0;34m,\u001b[0m \u001b[0mthin\u001b[0m \u001b[0;34m=\u001b[0m \u001b[0;36m0\u001b[0m\u001b[0;34m,\u001b[0m \u001b[0;36m1\u001b[0m\u001b[0;34m\u001b[0m\u001b[0m\n\u001b[0;32m--> 192\u001b[0;31m         \u001b[0;32mreturn\u001b[0m \u001b[0mself\u001b[0m\u001b[0;34m.\u001b[0m\u001b[0mget_values\u001b[0m\u001b[0;34m(\u001b[0m\u001b[0mvar\u001b[0m\u001b[0;34m,\u001b[0m \u001b[0mburn\u001b[0m\u001b[0;34m=\u001b[0m\u001b[0mburn\u001b[0m\u001b[0;34m,\u001b[0m \u001b[0mthin\u001b[0m\u001b[0;34m=\u001b[0m\u001b[0mthin\u001b[0m\u001b[0;34m)\u001b[0m\u001b[0;34m\u001b[0m\u001b[0m\n\u001b[0m\u001b[1;32m    193\u001b[0m \u001b[0;34m\u001b[0m\u001b[0m\n\u001b[1;32m    194\u001b[0m     \u001b[0m_attrs\u001b[0m \u001b[0;34m=\u001b[0m \u001b[0mset\u001b[0m\u001b[0;34m(\u001b[0m\u001b[0;34m[\u001b[0m\u001b[0;34m'_straces'\u001b[0m\u001b[0;34m,\u001b[0m \u001b[0;34m'varnames'\u001b[0m\u001b[0;34m,\u001b[0m \u001b[0;34m'chains'\u001b[0m\u001b[0;34m]\u001b[0m\u001b[0;34m)\u001b[0m\u001b[0;34m\u001b[0m\u001b[0m\n",
      "\u001b[0;32m/Users/benjaminglickenhaus/anaconda/lib/python3.5/site-packages/pymc3/backends/base.py\u001b[0m in \u001b[0;36mget_values\u001b[0;34m(self, varname, burn, thin, combine, chains, squeeze)\u001b[0m\n\u001b[1;32m    243\u001b[0m         \u001b[0;32mtry\u001b[0m\u001b[0;34m:\u001b[0m\u001b[0;34m\u001b[0m\u001b[0m\n\u001b[1;32m    244\u001b[0m             results = [self._straces[chain].get_values(varname, burn, thin)\n\u001b[0;32m--> 245\u001b[0;31m                        for chain in chains]\n\u001b[0m\u001b[1;32m    246\u001b[0m         \u001b[0;32mexcept\u001b[0m \u001b[0mTypeError\u001b[0m\u001b[0;34m:\u001b[0m  \u001b[0;31m# Single chain passed.\u001b[0m\u001b[0;34m\u001b[0m\u001b[0m\n\u001b[1;32m    247\u001b[0m             \u001b[0mresults\u001b[0m \u001b[0;34m=\u001b[0m \u001b[0;34m[\u001b[0m\u001b[0mself\u001b[0m\u001b[0;34m.\u001b[0m\u001b[0m_straces\u001b[0m\u001b[0;34m[\u001b[0m\u001b[0mchains\u001b[0m\u001b[0;34m]\u001b[0m\u001b[0;34m.\u001b[0m\u001b[0mget_values\u001b[0m\u001b[0;34m(\u001b[0m\u001b[0mvarname\u001b[0m\u001b[0;34m,\u001b[0m \u001b[0mburn\u001b[0m\u001b[0;34m,\u001b[0m \u001b[0mthin\u001b[0m\u001b[0;34m)\u001b[0m\u001b[0;34m]\u001b[0m\u001b[0;34m\u001b[0m\u001b[0m\n",
      "\u001b[0;32m/Users/benjaminglickenhaus/anaconda/lib/python3.5/site-packages/pymc3/backends/base.py\u001b[0m in \u001b[0;36m<listcomp>\u001b[0;34m(.0)\u001b[0m\n\u001b[1;32m    243\u001b[0m         \u001b[0;32mtry\u001b[0m\u001b[0;34m:\u001b[0m\u001b[0;34m\u001b[0m\u001b[0m\n\u001b[1;32m    244\u001b[0m             results = [self._straces[chain].get_values(varname, burn, thin)\n\u001b[0;32m--> 245\u001b[0;31m                        for chain in chains]\n\u001b[0m\u001b[1;32m    246\u001b[0m         \u001b[0;32mexcept\u001b[0m \u001b[0mTypeError\u001b[0m\u001b[0;34m:\u001b[0m  \u001b[0;31m# Single chain passed.\u001b[0m\u001b[0;34m\u001b[0m\u001b[0m\n\u001b[1;32m    247\u001b[0m             \u001b[0mresults\u001b[0m \u001b[0;34m=\u001b[0m \u001b[0;34m[\u001b[0m\u001b[0mself\u001b[0m\u001b[0;34m.\u001b[0m\u001b[0m_straces\u001b[0m\u001b[0;34m[\u001b[0m\u001b[0mchains\u001b[0m\u001b[0;34m]\u001b[0m\u001b[0;34m.\u001b[0m\u001b[0mget_values\u001b[0m\u001b[0;34m(\u001b[0m\u001b[0mvarname\u001b[0m\u001b[0;34m,\u001b[0m \u001b[0mburn\u001b[0m\u001b[0;34m,\u001b[0m \u001b[0mthin\u001b[0m\u001b[0;34m)\u001b[0m\u001b[0;34m]\u001b[0m\u001b[0;34m\u001b[0m\u001b[0m\n",
      "\u001b[0;32m/Users/benjaminglickenhaus/anaconda/lib/python3.5/site-packages/pymc3/backends/ndarray.py\u001b[0m in \u001b[0;36mget_values\u001b[0;34m(self, varname, burn, thin)\u001b[0m\n\u001b[1;32m     98\u001b[0m         \u001b[0mA\u001b[0m \u001b[0mNumPy\u001b[0m \u001b[0marray\u001b[0m\u001b[0;34m\u001b[0m\u001b[0m\n\u001b[1;32m     99\u001b[0m         \"\"\"\n\u001b[0;32m--> 100\u001b[0;31m         \u001b[0;32mreturn\u001b[0m \u001b[0mself\u001b[0m\u001b[0;34m.\u001b[0m\u001b[0msamples\u001b[0m\u001b[0;34m[\u001b[0m\u001b[0mvarname\u001b[0m\u001b[0;34m]\u001b[0m\u001b[0;34m[\u001b[0m\u001b[0mburn\u001b[0m\u001b[0;34m:\u001b[0m\u001b[0;34m:\u001b[0m\u001b[0mthin\u001b[0m\u001b[0;34m]\u001b[0m\u001b[0;34m\u001b[0m\u001b[0m\n\u001b[0m\u001b[1;32m    101\u001b[0m \u001b[0;34m\u001b[0m\u001b[0m\n\u001b[1;32m    102\u001b[0m     \u001b[0;32mdef\u001b[0m \u001b[0m_slice\u001b[0m\u001b[0;34m(\u001b[0m\u001b[0mself\u001b[0m\u001b[0;34m,\u001b[0m \u001b[0midx\u001b[0m\u001b[0;34m)\u001b[0m\u001b[0;34m:\u001b[0m\u001b[0;34m\u001b[0m\u001b[0m\n",
      "\u001b[0;31mKeyError\u001b[0m: ('b_security', 'occurred at index 2000-06-30 00:00:00')"
     ]
    }
   ],
   "source": [
    "combined['prediction'] = combined.apply(calc_prediction_helper, axis=1)"
   ]
  },
  {
   "cell_type": "code",
   "execution_count": 408,
   "metadata": {
    "collapsed": false
   },
   "outputs": [
    {
     "ename": "KeyError",
     "evalue": "'prediction'",
     "output_type": "error",
     "traceback": [
      "\u001b[0;31m---------------------------------------------------------------------------\u001b[0m",
      "\u001b[0;31mKeyError\u001b[0m                                  Traceback (most recent call last)",
      "\u001b[0;32m/Users/benjaminglickenhaus/anaconda/lib/python3.5/site-packages/pandas/core/indexes/base.py\u001b[0m in \u001b[0;36mget_loc\u001b[0;34m(self, key, method, tolerance)\u001b[0m\n\u001b[1;32m   2441\u001b[0m             \u001b[0;32mtry\u001b[0m\u001b[0;34m:\u001b[0m\u001b[0;34m\u001b[0m\u001b[0m\n\u001b[0;32m-> 2442\u001b[0;31m                 \u001b[0;32mreturn\u001b[0m \u001b[0mself\u001b[0m\u001b[0;34m.\u001b[0m\u001b[0m_engine\u001b[0m\u001b[0;34m.\u001b[0m\u001b[0mget_loc\u001b[0m\u001b[0;34m(\u001b[0m\u001b[0mkey\u001b[0m\u001b[0;34m)\u001b[0m\u001b[0;34m\u001b[0m\u001b[0m\n\u001b[0m\u001b[1;32m   2443\u001b[0m             \u001b[0;32mexcept\u001b[0m \u001b[0mKeyError\u001b[0m\u001b[0;34m:\u001b[0m\u001b[0;34m\u001b[0m\u001b[0m\n",
      "\u001b[0;32mpandas/_libs/index.pyx\u001b[0m in \u001b[0;36mpandas._libs.index.IndexEngine.get_loc (pandas/_libs/index.c:5280)\u001b[0;34m()\u001b[0m\n",
      "\u001b[0;32mpandas/_libs/index.pyx\u001b[0m in \u001b[0;36mpandas._libs.index.IndexEngine.get_loc (pandas/_libs/index.c:5126)\u001b[0;34m()\u001b[0m\n",
      "\u001b[0;32mpandas/_libs/hashtable_class_helper.pxi\u001b[0m in \u001b[0;36mpandas._libs.hashtable.PyObjectHashTable.get_item (pandas/_libs/hashtable.c:20523)\u001b[0;34m()\u001b[0m\n",
      "\u001b[0;32mpandas/_libs/hashtable_class_helper.pxi\u001b[0m in \u001b[0;36mpandas._libs.hashtable.PyObjectHashTable.get_item (pandas/_libs/hashtable.c:20477)\u001b[0;34m()\u001b[0m\n",
      "\u001b[0;31mKeyError\u001b[0m: 'prediction'",
      "\nDuring handling of the above exception, another exception occurred:\n",
      "\u001b[0;31mKeyError\u001b[0m                                  Traceback (most recent call last)",
      "\u001b[0;32m<ipython-input-408-236a13cec197>\u001b[0m in \u001b[0;36m<module>\u001b[0;34m()\u001b[0m\n\u001b[0;32m----> 1\u001b[0;31m \u001b[0mcombined\u001b[0m\u001b[0;34m[\u001b[0m\u001b[0;34m'rounded_prediction'\u001b[0m\u001b[0;34m]\u001b[0m \u001b[0;34m=\u001b[0m \u001b[0mcombined\u001b[0m\u001b[0;34m[\u001b[0m\u001b[0;34m'prediction'\u001b[0m\u001b[0;34m]\u001b[0m\u001b[0;34m.\u001b[0m\u001b[0mround\u001b[0m\u001b[0;34m(\u001b[0m\u001b[0;36m2\u001b[0m\u001b[0;34m)\u001b[0m\u001b[0;34m\u001b[0m\u001b[0m\n\u001b[0m\u001b[1;32m      2\u001b[0m \u001b[0msns\u001b[0m\u001b[0;34m.\u001b[0m\u001b[0mjointplot\u001b[0m\u001b[0;34m(\u001b[0m\u001b[0mcombined\u001b[0m\u001b[0;34m.\u001b[0m\u001b[0mgroupby\u001b[0m\u001b[0;34m(\u001b[0m\u001b[0;34m'rounded_prediction'\u001b[0m\u001b[0;34m)\u001b[0m\u001b[0;34m.\u001b[0m\u001b[0mmean\u001b[0m\u001b[0;34m(\u001b[0m\u001b[0;34m)\u001b[0m\u001b[0;34m[\u001b[0m\u001b[0;34m'month_log_return'\u001b[0m\u001b[0;34m]\u001b[0m\u001b[0;34m.\u001b[0m\u001b[0mindex\u001b[0m\u001b[0;34m,\u001b[0m \u001b[0mcombined\u001b[0m\u001b[0;34m.\u001b[0m\u001b[0mgroupby\u001b[0m\u001b[0;34m(\u001b[0m\u001b[0;34m'rounded_prediction'\u001b[0m\u001b[0;34m)\u001b[0m\u001b[0;34m.\u001b[0m\u001b[0mmean\u001b[0m\u001b[0;34m(\u001b[0m\u001b[0;34m)\u001b[0m\u001b[0;34m[\u001b[0m\u001b[0;34m'month_log_return'\u001b[0m\u001b[0;34m]\u001b[0m\u001b[0;34m)\u001b[0m\u001b[0;34m\u001b[0m\u001b[0m\n",
      "\u001b[0;32m/Users/benjaminglickenhaus/anaconda/lib/python3.5/site-packages/pandas/core/frame.py\u001b[0m in \u001b[0;36m__getitem__\u001b[0;34m(self, key)\u001b[0m\n\u001b[1;32m   1962\u001b[0m             \u001b[0;32mreturn\u001b[0m \u001b[0mself\u001b[0m\u001b[0;34m.\u001b[0m\u001b[0m_getitem_multilevel\u001b[0m\u001b[0;34m(\u001b[0m\u001b[0mkey\u001b[0m\u001b[0;34m)\u001b[0m\u001b[0;34m\u001b[0m\u001b[0m\n\u001b[1;32m   1963\u001b[0m         \u001b[0;32melse\u001b[0m\u001b[0;34m:\u001b[0m\u001b[0;34m\u001b[0m\u001b[0m\n\u001b[0;32m-> 1964\u001b[0;31m             \u001b[0;32mreturn\u001b[0m \u001b[0mself\u001b[0m\u001b[0;34m.\u001b[0m\u001b[0m_getitem_column\u001b[0m\u001b[0;34m(\u001b[0m\u001b[0mkey\u001b[0m\u001b[0;34m)\u001b[0m\u001b[0;34m\u001b[0m\u001b[0m\n\u001b[0m\u001b[1;32m   1965\u001b[0m \u001b[0;34m\u001b[0m\u001b[0m\n\u001b[1;32m   1966\u001b[0m     \u001b[0;32mdef\u001b[0m \u001b[0m_getitem_column\u001b[0m\u001b[0;34m(\u001b[0m\u001b[0mself\u001b[0m\u001b[0;34m,\u001b[0m \u001b[0mkey\u001b[0m\u001b[0;34m)\u001b[0m\u001b[0;34m:\u001b[0m\u001b[0;34m\u001b[0m\u001b[0m\n",
      "\u001b[0;32m/Users/benjaminglickenhaus/anaconda/lib/python3.5/site-packages/pandas/core/frame.py\u001b[0m in \u001b[0;36m_getitem_column\u001b[0;34m(self, key)\u001b[0m\n\u001b[1;32m   1969\u001b[0m         \u001b[0;31m# get column\u001b[0m\u001b[0;34m\u001b[0m\u001b[0;34m\u001b[0m\u001b[0m\n\u001b[1;32m   1970\u001b[0m         \u001b[0;32mif\u001b[0m \u001b[0mself\u001b[0m\u001b[0;34m.\u001b[0m\u001b[0mcolumns\u001b[0m\u001b[0;34m.\u001b[0m\u001b[0mis_unique\u001b[0m\u001b[0;34m:\u001b[0m\u001b[0;34m\u001b[0m\u001b[0m\n\u001b[0;32m-> 1971\u001b[0;31m             \u001b[0;32mreturn\u001b[0m \u001b[0mself\u001b[0m\u001b[0;34m.\u001b[0m\u001b[0m_get_item_cache\u001b[0m\u001b[0;34m(\u001b[0m\u001b[0mkey\u001b[0m\u001b[0;34m)\u001b[0m\u001b[0;34m\u001b[0m\u001b[0m\n\u001b[0m\u001b[1;32m   1972\u001b[0m \u001b[0;34m\u001b[0m\u001b[0m\n\u001b[1;32m   1973\u001b[0m         \u001b[0;31m# duplicate columns & possible reduce dimensionality\u001b[0m\u001b[0;34m\u001b[0m\u001b[0;34m\u001b[0m\u001b[0m\n",
      "\u001b[0;32m/Users/benjaminglickenhaus/anaconda/lib/python3.5/site-packages/pandas/core/generic.py\u001b[0m in \u001b[0;36m_get_item_cache\u001b[0;34m(self, item)\u001b[0m\n\u001b[1;32m   1643\u001b[0m         \u001b[0mres\u001b[0m \u001b[0;34m=\u001b[0m \u001b[0mcache\u001b[0m\u001b[0;34m.\u001b[0m\u001b[0mget\u001b[0m\u001b[0;34m(\u001b[0m\u001b[0mitem\u001b[0m\u001b[0;34m)\u001b[0m\u001b[0;34m\u001b[0m\u001b[0m\n\u001b[1;32m   1644\u001b[0m         \u001b[0;32mif\u001b[0m \u001b[0mres\u001b[0m \u001b[0;32mis\u001b[0m \u001b[0;32mNone\u001b[0m\u001b[0;34m:\u001b[0m\u001b[0;34m\u001b[0m\u001b[0m\n\u001b[0;32m-> 1645\u001b[0;31m             \u001b[0mvalues\u001b[0m \u001b[0;34m=\u001b[0m \u001b[0mself\u001b[0m\u001b[0;34m.\u001b[0m\u001b[0m_data\u001b[0m\u001b[0;34m.\u001b[0m\u001b[0mget\u001b[0m\u001b[0;34m(\u001b[0m\u001b[0mitem\u001b[0m\u001b[0;34m)\u001b[0m\u001b[0;34m\u001b[0m\u001b[0m\n\u001b[0m\u001b[1;32m   1646\u001b[0m             \u001b[0mres\u001b[0m \u001b[0;34m=\u001b[0m \u001b[0mself\u001b[0m\u001b[0;34m.\u001b[0m\u001b[0m_box_item_values\u001b[0m\u001b[0;34m(\u001b[0m\u001b[0mitem\u001b[0m\u001b[0;34m,\u001b[0m \u001b[0mvalues\u001b[0m\u001b[0;34m)\u001b[0m\u001b[0;34m\u001b[0m\u001b[0m\n\u001b[1;32m   1647\u001b[0m             \u001b[0mcache\u001b[0m\u001b[0;34m[\u001b[0m\u001b[0mitem\u001b[0m\u001b[0;34m]\u001b[0m \u001b[0;34m=\u001b[0m \u001b[0mres\u001b[0m\u001b[0;34m\u001b[0m\u001b[0m\n",
      "\u001b[0;32m/Users/benjaminglickenhaus/anaconda/lib/python3.5/site-packages/pandas/core/internals.py\u001b[0m in \u001b[0;36mget\u001b[0;34m(self, item, fastpath)\u001b[0m\n\u001b[1;32m   3588\u001b[0m \u001b[0;34m\u001b[0m\u001b[0m\n\u001b[1;32m   3589\u001b[0m             \u001b[0;32mif\u001b[0m \u001b[0;32mnot\u001b[0m \u001b[0misnull\u001b[0m\u001b[0;34m(\u001b[0m\u001b[0mitem\u001b[0m\u001b[0;34m)\u001b[0m\u001b[0;34m:\u001b[0m\u001b[0;34m\u001b[0m\u001b[0m\n\u001b[0;32m-> 3590\u001b[0;31m                 \u001b[0mloc\u001b[0m \u001b[0;34m=\u001b[0m \u001b[0mself\u001b[0m\u001b[0;34m.\u001b[0m\u001b[0mitems\u001b[0m\u001b[0;34m.\u001b[0m\u001b[0mget_loc\u001b[0m\u001b[0;34m(\u001b[0m\u001b[0mitem\u001b[0m\u001b[0;34m)\u001b[0m\u001b[0;34m\u001b[0m\u001b[0m\n\u001b[0m\u001b[1;32m   3591\u001b[0m             \u001b[0;32melse\u001b[0m\u001b[0;34m:\u001b[0m\u001b[0;34m\u001b[0m\u001b[0m\n\u001b[1;32m   3592\u001b[0m                 \u001b[0mindexer\u001b[0m \u001b[0;34m=\u001b[0m \u001b[0mnp\u001b[0m\u001b[0;34m.\u001b[0m\u001b[0marange\u001b[0m\u001b[0;34m(\u001b[0m\u001b[0mlen\u001b[0m\u001b[0;34m(\u001b[0m\u001b[0mself\u001b[0m\u001b[0;34m.\u001b[0m\u001b[0mitems\u001b[0m\u001b[0;34m)\u001b[0m\u001b[0;34m)\u001b[0m\u001b[0;34m[\u001b[0m\u001b[0misnull\u001b[0m\u001b[0;34m(\u001b[0m\u001b[0mself\u001b[0m\u001b[0;34m.\u001b[0m\u001b[0mitems\u001b[0m\u001b[0;34m)\u001b[0m\u001b[0;34m]\u001b[0m\u001b[0;34m\u001b[0m\u001b[0m\n",
      "\u001b[0;32m/Users/benjaminglickenhaus/anaconda/lib/python3.5/site-packages/pandas/core/indexes/base.py\u001b[0m in \u001b[0;36mget_loc\u001b[0;34m(self, key, method, tolerance)\u001b[0m\n\u001b[1;32m   2442\u001b[0m                 \u001b[0;32mreturn\u001b[0m \u001b[0mself\u001b[0m\u001b[0;34m.\u001b[0m\u001b[0m_engine\u001b[0m\u001b[0;34m.\u001b[0m\u001b[0mget_loc\u001b[0m\u001b[0;34m(\u001b[0m\u001b[0mkey\u001b[0m\u001b[0;34m)\u001b[0m\u001b[0;34m\u001b[0m\u001b[0m\n\u001b[1;32m   2443\u001b[0m             \u001b[0;32mexcept\u001b[0m \u001b[0mKeyError\u001b[0m\u001b[0;34m:\u001b[0m\u001b[0;34m\u001b[0m\u001b[0m\n\u001b[0;32m-> 2444\u001b[0;31m                 \u001b[0;32mreturn\u001b[0m \u001b[0mself\u001b[0m\u001b[0;34m.\u001b[0m\u001b[0m_engine\u001b[0m\u001b[0;34m.\u001b[0m\u001b[0mget_loc\u001b[0m\u001b[0;34m(\u001b[0m\u001b[0mself\u001b[0m\u001b[0;34m.\u001b[0m\u001b[0m_maybe_cast_indexer\u001b[0m\u001b[0;34m(\u001b[0m\u001b[0mkey\u001b[0m\u001b[0;34m)\u001b[0m\u001b[0;34m)\u001b[0m\u001b[0;34m\u001b[0m\u001b[0m\n\u001b[0m\u001b[1;32m   2445\u001b[0m \u001b[0;34m\u001b[0m\u001b[0m\n\u001b[1;32m   2446\u001b[0m         \u001b[0mindexer\u001b[0m \u001b[0;34m=\u001b[0m \u001b[0mself\u001b[0m\u001b[0;34m.\u001b[0m\u001b[0mget_indexer\u001b[0m\u001b[0;34m(\u001b[0m\u001b[0;34m[\u001b[0m\u001b[0mkey\u001b[0m\u001b[0;34m]\u001b[0m\u001b[0;34m,\u001b[0m \u001b[0mmethod\u001b[0m\u001b[0;34m=\u001b[0m\u001b[0mmethod\u001b[0m\u001b[0;34m,\u001b[0m \u001b[0mtolerance\u001b[0m\u001b[0;34m=\u001b[0m\u001b[0mtolerance\u001b[0m\u001b[0;34m)\u001b[0m\u001b[0;34m\u001b[0m\u001b[0m\n",
      "\u001b[0;32mpandas/_libs/index.pyx\u001b[0m in \u001b[0;36mpandas._libs.index.IndexEngine.get_loc (pandas/_libs/index.c:5280)\u001b[0;34m()\u001b[0m\n",
      "\u001b[0;32mpandas/_libs/index.pyx\u001b[0m in \u001b[0;36mpandas._libs.index.IndexEngine.get_loc (pandas/_libs/index.c:5126)\u001b[0;34m()\u001b[0m\n",
      "\u001b[0;32mpandas/_libs/hashtable_class_helper.pxi\u001b[0m in \u001b[0;36mpandas._libs.hashtable.PyObjectHashTable.get_item (pandas/_libs/hashtable.c:20523)\u001b[0;34m()\u001b[0m\n",
      "\u001b[0;32mpandas/_libs/hashtable_class_helper.pxi\u001b[0m in \u001b[0;36mpandas._libs.hashtable.PyObjectHashTable.get_item (pandas/_libs/hashtable.c:20477)\u001b[0;34m()\u001b[0m\n",
      "\u001b[0;31mKeyError\u001b[0m: 'prediction'"
     ]
    }
   ],
   "source": [
    "combined['rounded_prediction'] = combined['prediction'].round(2)\n",
    "sns.jointplot(combined.groupby('rounded_prediction').mean()['month_log_return'].index, combined.groupby('rounded_prediction').mean()['month_log_return'])"
   ]
  },
  {
   "cell_type": "code",
   "execution_count": null,
   "metadata": {
    "collapsed": false
   },
   "outputs": [],
   "source": [
    "print('Avg. return on long positions: {}'.format(combined.loc[combined.prediction >= .5, 'month_log_return'].mean()))\n",
    "print('Avg. return on short positions: {}'.format(combined.loc[combined.prediction < .5, 'month_log_return'].mean()))"
   ]
  },
  {
   "cell_type": "code",
   "execution_count": null,
   "metadata": {
    "collapsed": false
   },
   "outputs": [],
   "source": [
    "len(combined[combined['prediction'] >= .7]) / len(combined)"
   ]
  },
  {
   "cell_type": "code",
   "execution_count": null,
   "metadata": {
    "collapsed": false
   },
   "outputs": [],
   "source": [
    "sns.distplot(combined['prediction'])\n",
    "# sns.distplot(combined['month_log_return'])"
   ]
  },
  {
   "cell_type": "code",
   "execution_count": 384,
   "metadata": {
    "collapsed": false
   },
   "outputs": [
    {
     "data": {
      "text/plain": [
       "<seaborn.axisgrid.JointGrid at 0x1a7ba7978>"
      ]
     },
     "execution_count": 384,
     "metadata": {},
     "output_type": "execute_result"
    },
    {
     "data": {
      "image/png": "[encoded data removed]",
      "text/plain": [
       "<matplotlib.figure.Figure at 0x1a72b1390>"
      ]
     },
     "metadata": {},
     "output_type": "display_data"
    }
   ],
   "source": [
    "sns.jointplot('momentum', 'month_log_return', data=combined)"
   ]
  },
  {
   "cell_type": "code",
   "execution_count": 337,
   "metadata": {
    "collapsed": false
   },
   "outputs": [
    {
     "data": {
      "text/plain": [
       "<seaborn.axisgrid.JointGrid at 0x1957e3320>"
      ]
     },
     "execution_count": 337,
     "metadata": {},
     "output_type": "execute_result"
    },
    {
     "data": {
      "image/png": "[encoded data removed]",
      "text/plain": [
       "<matplotlib.figure.Figure at 0x19972a518>"
      ]
     },
     "metadata": {},
     "output_type": "display_data"
    }
   ],
   "source": [
    "sns.jointplot('prediction', 'month_log_return', data=combined)"
   ]
  },
  {
   "cell_type": "code",
   "execution_count": 355,
   "metadata": {
    "collapsed": false
   },
   "outputs": [],
   "source": [
    "combined['position'] = 0\n",
    "combined['position'] = np.where(combined['prediction'] >= .75, 1, 0)\n",
    "combined['position'] = np.where(combined['prediction'] <= .25, -1, 0)\n",
    "combined['bt_return'] = combined['log_return'] * combined['position']\n",
    "combined['date'] = combined.index"
   ]
  },
  {
   "cell_type": "code",
   "execution_count": null,
   "metadata": {
    "collapsed": false
   },
   "outputs": [],
   "source": []
  },
  {
   "cell_type": "code",
   "execution_count": 356,
   "metadata": {
    "collapsed": false
   },
   "outputs": [
    {
     "data": {
      "text/plain": [
       "<matplotlib.axes._subplots.AxesSubplot at 0x1a6659400>"
      ]
     },
     "execution_count": 356,
     "metadata": {},
     "output_type": "execute_result"
    },
    {
     "data": {
      "image/png": "[encoded data removed]",
      "text/plain": [
       "<matplotlib.figure.Figure at 0x1a6a83470>"
      ]
     },
     "metadata": {},
     "output_type": "display_data"
    }
   ],
   "source": [
    "combined.groupby('date').sum()['bt_return'].cumsum().plot()\n",
    "combined.groupby('date').sum()['log_return'].cumsum().plot()"
   ]
  },
  {
   "cell_type": "code",
   "execution_count": null,
   "metadata": {
    "collapsed": false
   },
   "outputs": [],
   "source": []
  },
  {
   "cell_type": "code",
   "execution_count": 318,
   "metadata": {
    "collapsed": false
   },
   "outputs": [
    {
     "data": {
      "text/plain": [
       "0.98570000000000002"
      ]
     },
     "execution_count": 318,
     "metadata": {},
     "output_type": "execute_result"
    }
   ],
   "source": [
    "# Calculate likelihood of positive forward month returns\n",
    "a = (.02 * trace['a_security'][:, 10] + trace['b_security'][:, 10])\n",
    "np.mean(a > 0)"
   ]
  },
  {
   "cell_type": "code",
   "execution_count": 319,
   "metadata": {
    "collapsed": false
   },
   "outputs": [
    {
     "data": {
      "text/plain": [
       "<matplotlib.axes._subplots.AxesSubplot at 0x12870a208>"
      ]
     },
     "execution_count": 319,
     "metadata": {},
     "output_type": "execute_result"
    },
    {
     "data": {
      "image/png": "[encoded data removed]",
      "text/plain": [
       "<matplotlib.figure.Figure at 0x11a2e0ef0>"
      ]
     },
     "metadata": {},
     "output_type": "display_data"
    }
   ],
   "source": [
    "sns.distplot(trace['a_security'][:, 10])"
   ]
  },
  {
   "cell_type": "code",
   "execution_count": 320,
   "metadata": {
    "collapsed": false
   },
   "outputs": [
    {
     "data": {
      "text/plain": [
       "<matplotlib.axes._subplots.AxesSubplot at 0x1089c3cc0>"
      ]
     },
     "execution_count": 320,
     "metadata": {},
     "output_type": "execute_result"
    },
    {
     "data": {
      "image/png": "[encoded data removed]",
      "text/plain": [
       "<matplotlib.figure.Figure at 0x118fee6a0>"
      ]
     },
     "metadata": {},
     "output_type": "display_data"
    }
   ],
   "source": [
    "sns.distplot(trace['b_security'][:, 10])"
   ]
  },
  {
   "cell_type": "code",
   "execution_count": 327,
   "metadata": {
    "collapsed": false
   },
   "outputs": [
    {
     "data": {
      "text/plain": [
       "0.004074313702555441"
      ]
     },
     "execution_count": 327,
     "metadata": {},
     "output_type": "execute_result"
    }
   ],
   "source": [
    "np.mean(combined.loc[combined.security_enc==10, 'month_log_return'])"
   ]
  },
  {
   "cell_type": "code",
   "execution_count": 168,
   "metadata": {
    "collapsed": false
   },
   "outputs": [
    {
     "data": {
      "text/plain": [
       "{'AGG': 4,\n",
       " 'EFA': 7,\n",
       " 'EMB': 2,\n",
       " 'HYG': 3,\n",
       " 'IJH': 1,\n",
       " 'IJR': 6,\n",
       " 'IWF': 5,\n",
       " 'LQD': 0,\n",
       " 'SPY': 9,\n",
       " 'VIG': 8,\n",
       " 'VWO': 10}"
      ]
     },
     "execution_count": 168,
     "metadata": {},
     "output_type": "execute_result"
    }
   ],
   "source": [
    "security_encodings"
   ]
  },
  {
   "cell_type": "code",
   "execution_count": 326,
   "metadata": {
    "collapsed": false,
    "scrolled": true
   },
   "outputs": [
    {
     "data": {
      "text/html": [
       "<div>\n",
       "<style>\n",
       "    .dataframe thead tr:only-child th {\n",
       "        text-align: right;\n",
       "    }\n",
       "\n",
       "    .dataframe thead th {\n",
       "        text-align: left;\n",
       "    }\n",
       "\n",
       "    .dataframe tbody tr th {\n",
       "        vertical-align: top;\n",
       "    }\n",
       "</style>\n",
       "<table border=\"1\" class=\"dataframe\">\n",
       "  <thead>\n",
       "    <tr style=\"text-align: right;\">\n",
       "      <th></th>\n",
       "      <th>momentum</th>\n",
       "      <th>month_log_return</th>\n",
       "      <th>prediction</th>\n",
       "      <th>security_enc</th>\n",
       "    </tr>\n",
       "    <tr>\n",
       "      <th>Date</th>\n",
       "      <th></th>\n",
       "      <th></th>\n",
       "      <th></th>\n",
       "      <th></th>\n",
       "    </tr>\n",
       "  </thead>\n",
       "  <tbody>\n",
       "    <tr>\n",
       "      <th>2008-09-25</th>\n",
       "      <td>-0.076662</td>\n",
       "      <td>-0.632523</td>\n",
       "      <td>0.93090</td>\n",
       "      <td>10</td>\n",
       "    </tr>\n",
       "    <tr>\n",
       "      <th>2008-09-24</th>\n",
       "      <td>-0.081097</td>\n",
       "      <td>-0.559686</td>\n",
       "      <td>0.91230</td>\n",
       "      <td>10</td>\n",
       "    </tr>\n",
       "    <tr>\n",
       "      <th>2008-09-22</th>\n",
       "      <td>-0.084976</td>\n",
       "      <td>-0.496025</td>\n",
       "      <td>0.89490</td>\n",
       "      <td>10</td>\n",
       "    </tr>\n",
       "    <tr>\n",
       "      <th>2008-09-25</th>\n",
       "      <td>-0.032976</td>\n",
       "      <td>-0.476216</td>\n",
       "      <td>0.97245</td>\n",
       "      <td>7</td>\n",
       "    </tr>\n",
       "    <tr>\n",
       "      <th>2008-09-19</th>\n",
       "      <td>-0.084898</td>\n",
       "      <td>-0.462080</td>\n",
       "      <td>0.89495</td>\n",
       "      <td>10</td>\n",
       "    </tr>\n",
       "    <tr>\n",
       "      <th>2008-09-25</th>\n",
       "      <td>-0.030162</td>\n",
       "      <td>-0.459665</td>\n",
       "      <td>0.97435</td>\n",
       "      <td>1</td>\n",
       "    </tr>\n",
       "    <tr>\n",
       "      <th>2008-09-23</th>\n",
       "      <td>-0.083429</td>\n",
       "      <td>-0.450323</td>\n",
       "      <td>0.90190</td>\n",
       "      <td>10</td>\n",
       "    </tr>\n",
       "    <tr>\n",
       "      <th>2008-09-26</th>\n",
       "      <td>-0.075104</td>\n",
       "      <td>-0.446928</td>\n",
       "      <td>0.93620</td>\n",
       "      <td>10</td>\n",
       "    </tr>\n",
       "    <tr>\n",
       "      <th>2008-09-25</th>\n",
       "      <td>-0.012921</td>\n",
       "      <td>-0.425113</td>\n",
       "      <td>0.98040</td>\n",
       "      <td>6</td>\n",
       "    </tr>\n",
       "    <tr>\n",
       "      <th>2008-09-24</th>\n",
       "      <td>-0.029687</td>\n",
       "      <td>-0.399696</td>\n",
       "      <td>0.97445</td>\n",
       "      <td>1</td>\n",
       "    </tr>\n",
       "    <tr>\n",
       "      <th>2008-09-24</th>\n",
       "      <td>-0.036682</td>\n",
       "      <td>-0.399469</td>\n",
       "      <td>0.97175</td>\n",
       "      <td>7</td>\n",
       "    </tr>\n",
       "    <tr>\n",
       "      <th>2008-09-10</th>\n",
       "      <td>-0.055121</td>\n",
       "      <td>-0.397368</td>\n",
       "      <td>0.96040</td>\n",
       "      <td>10</td>\n",
       "    </tr>\n",
       "    <tr>\n",
       "      <th>2008-09-24</th>\n",
       "      <td>-0.012250</td>\n",
       "      <td>-0.395234</td>\n",
       "      <td>0.98040</td>\n",
       "      <td>6</td>\n",
       "    </tr>\n",
       "    <tr>\n",
       "      <th>2008-09-23</th>\n",
       "      <td>-0.029343</td>\n",
       "      <td>-0.378627</td>\n",
       "      <td>0.97445</td>\n",
       "      <td>1</td>\n",
       "    </tr>\n",
       "    <tr>\n",
       "      <th>2008-09-25</th>\n",
       "      <td>-0.041523</td>\n",
       "      <td>-0.378270</td>\n",
       "      <td>0.96910</td>\n",
       "      <td>5</td>\n",
       "    </tr>\n",
       "    <tr>\n",
       "      <th>2008-09-08</th>\n",
       "      <td>-0.048404</td>\n",
       "      <td>-0.371745</td>\n",
       "      <td>0.96125</td>\n",
       "      <td>10</td>\n",
       "    </tr>\n",
       "    <tr>\n",
       "      <th>2008-09-09</th>\n",
       "      <td>-0.051585</td>\n",
       "      <td>-0.370140</td>\n",
       "      <td>0.96125</td>\n",
       "      <td>10</td>\n",
       "    </tr>\n",
       "    <tr>\n",
       "      <th>2008-09-26</th>\n",
       "      <td>-0.013056</td>\n",
       "      <td>-0.369862</td>\n",
       "      <td>0.98040</td>\n",
       "      <td>6</td>\n",
       "    </tr>\n",
       "    <tr>\n",
       "      <th>2008-09-22</th>\n",
       "      <td>-0.030989</td>\n",
       "      <td>-0.369377</td>\n",
       "      <td>0.97435</td>\n",
       "      <td>1</td>\n",
       "    </tr>\n",
       "    <tr>\n",
       "      <th>2008-09-23</th>\n",
       "      <td>-0.012138</td>\n",
       "      <td>-0.366728</td>\n",
       "      <td>0.98040</td>\n",
       "      <td>6</td>\n",
       "    </tr>\n",
       "    <tr>\n",
       "      <th>2008-09-22</th>\n",
       "      <td>-0.042652</td>\n",
       "      <td>-0.365568</td>\n",
       "      <td>0.96880</td>\n",
       "      <td>7</td>\n",
       "    </tr>\n",
       "    <tr>\n",
       "      <th>2008-09-26</th>\n",
       "      <td>-0.032141</td>\n",
       "      <td>-0.364345</td>\n",
       "      <td>0.97435</td>\n",
       "      <td>1</td>\n",
       "    </tr>\n",
       "    <tr>\n",
       "      <th>2008-09-26</th>\n",
       "      <td>-0.039758</td>\n",
       "      <td>-0.364192</td>\n",
       "      <td>0.97080</td>\n",
       "      <td>2</td>\n",
       "    </tr>\n",
       "    <tr>\n",
       "      <th>2008-09-25</th>\n",
       "      <td>-0.034246</td>\n",
       "      <td>-0.363832</td>\n",
       "      <td>0.97730</td>\n",
       "      <td>9</td>\n",
       "    </tr>\n",
       "    <tr>\n",
       "      <th>2008-09-05</th>\n",
       "      <td>-0.044763</td>\n",
       "      <td>-0.353664</td>\n",
       "      <td>0.96165</td>\n",
       "      <td>10</td>\n",
       "    </tr>\n",
       "    <tr>\n",
       "      <th>2008-09-22</th>\n",
       "      <td>-0.014608</td>\n",
       "      <td>-0.350366</td>\n",
       "      <td>0.98040</td>\n",
       "      <td>6</td>\n",
       "    </tr>\n",
       "    <tr>\n",
       "      <th>2008-09-19</th>\n",
       "      <td>-0.029204</td>\n",
       "      <td>-0.347156</td>\n",
       "      <td>0.97445</td>\n",
       "      <td>1</td>\n",
       "    </tr>\n",
       "    <tr>\n",
       "      <th>2008-09-10</th>\n",
       "      <td>-0.009223</td>\n",
       "      <td>-0.346392</td>\n",
       "      <td>0.97780</td>\n",
       "      <td>1</td>\n",
       "    </tr>\n",
       "    <tr>\n",
       "      <th>2008-09-15</th>\n",
       "      <td>-0.072431</td>\n",
       "      <td>-0.345602</td>\n",
       "      <td>0.94240</td>\n",
       "      <td>10</td>\n",
       "    </tr>\n",
       "    <tr>\n",
       "      <th>2008-09-15</th>\n",
       "      <td>-0.020882</td>\n",
       "      <td>-0.342957</td>\n",
       "      <td>0.97715</td>\n",
       "      <td>1</td>\n",
       "    </tr>\n",
       "    <tr>\n",
       "      <th>...</th>\n",
       "      <td>...</td>\n",
       "      <td>...</td>\n",
       "      <td>...</td>\n",
       "      <td>...</td>\n",
       "    </tr>\n",
       "    <tr>\n",
       "      <th>2009-03-16</th>\n",
       "      <td>-0.023651</td>\n",
       "      <td>0.204794</td>\n",
       "      <td>0.96600</td>\n",
       "      <td>10</td>\n",
       "    </tr>\n",
       "    <tr>\n",
       "      <th>2009-03-04</th>\n",
       "      <td>-0.086930</td>\n",
       "      <td>0.204875</td>\n",
       "      <td>0.98070</td>\n",
       "      <td>6</td>\n",
       "    </tr>\n",
       "    <tr>\n",
       "      <th>2009-03-06</th>\n",
       "      <td>-0.102688</td>\n",
       "      <td>0.205132</td>\n",
       "      <td>0.98050</td>\n",
       "      <td>6</td>\n",
       "    </tr>\n",
       "    <tr>\n",
       "      <th>2009-03-03</th>\n",
       "      <td>-0.079941</td>\n",
       "      <td>0.205156</td>\n",
       "      <td>0.98070</td>\n",
       "      <td>6</td>\n",
       "    </tr>\n",
       "    <tr>\n",
       "      <th>2008-12-01</th>\n",
       "      <td>0.019614</td>\n",
       "      <td>0.206406</td>\n",
       "      <td>0.97255</td>\n",
       "      <td>2</td>\n",
       "    </tr>\n",
       "    <tr>\n",
       "      <th>2009-04-01</th>\n",
       "      <td>0.089577</td>\n",
       "      <td>0.207793</td>\n",
       "      <td>0.98915</td>\n",
       "      <td>10</td>\n",
       "    </tr>\n",
       "    <tr>\n",
       "      <th>2009-03-11</th>\n",
       "      <td>-0.096413</td>\n",
       "      <td>0.207913</td>\n",
       "      <td>0.97245</td>\n",
       "      <td>1</td>\n",
       "    </tr>\n",
       "    <tr>\n",
       "      <th>2009-04-29</th>\n",
       "      <td>0.044265</td>\n",
       "      <td>0.208934</td>\n",
       "      <td>0.98915</td>\n",
       "      <td>10</td>\n",
       "    </tr>\n",
       "    <tr>\n",
       "      <th>2008-12-03</th>\n",
       "      <td>-0.057549</td>\n",
       "      <td>0.210428</td>\n",
       "      <td>0.98270</td>\n",
       "      <td>3</td>\n",
       "    </tr>\n",
       "    <tr>\n",
       "      <th>2008-10-28</th>\n",
       "      <td>-0.128182</td>\n",
       "      <td>0.210644</td>\n",
       "      <td>0.93315</td>\n",
       "      <td>2</td>\n",
       "    </tr>\n",
       "    <tr>\n",
       "      <th>2009-03-03</th>\n",
       "      <td>-0.073892</td>\n",
       "      <td>0.213515</td>\n",
       "      <td>0.96195</td>\n",
       "      <td>7</td>\n",
       "    </tr>\n",
       "    <tr>\n",
       "      <th>2009-03-10</th>\n",
       "      <td>-0.095493</td>\n",
       "      <td>0.213645</td>\n",
       "      <td>0.97245</td>\n",
       "      <td>1</td>\n",
       "    </tr>\n",
       "    <tr>\n",
       "      <th>2009-03-09</th>\n",
       "      <td>-0.088272</td>\n",
       "      <td>0.213889</td>\n",
       "      <td>0.95410</td>\n",
       "      <td>7</td>\n",
       "    </tr>\n",
       "    <tr>\n",
       "      <th>2001-04-03</th>\n",
       "      <td>-0.063135</td>\n",
       "      <td>0.217581</td>\n",
       "      <td>0.96850</td>\n",
       "      <td>5</td>\n",
       "    </tr>\n",
       "    <tr>\n",
       "      <th>2001-04-04</th>\n",
       "      <td>-0.061968</td>\n",
       "      <td>0.221903</td>\n",
       "      <td>0.96850</td>\n",
       "      <td>5</td>\n",
       "    </tr>\n",
       "    <tr>\n",
       "      <th>2009-04-28</th>\n",
       "      <td>0.048413</td>\n",
       "      <td>0.223373</td>\n",
       "      <td>0.98915</td>\n",
       "      <td>10</td>\n",
       "    </tr>\n",
       "    <tr>\n",
       "      <th>2009-03-10</th>\n",
       "      <td>-0.048593</td>\n",
       "      <td>0.227167</td>\n",
       "      <td>0.96125</td>\n",
       "      <td>10</td>\n",
       "    </tr>\n",
       "    <tr>\n",
       "      <th>2009-03-06</th>\n",
       "      <td>-0.050476</td>\n",
       "      <td>0.227314</td>\n",
       "      <td>0.96125</td>\n",
       "      <td>10</td>\n",
       "    </tr>\n",
       "    <tr>\n",
       "      <th>2009-03-05</th>\n",
       "      <td>-0.083221</td>\n",
       "      <td>0.227658</td>\n",
       "      <td>0.97245</td>\n",
       "      <td>1</td>\n",
       "    </tr>\n",
       "    <tr>\n",
       "      <th>2009-03-09</th>\n",
       "      <td>-0.092803</td>\n",
       "      <td>0.228027</td>\n",
       "      <td>0.97245</td>\n",
       "      <td>1</td>\n",
       "    </tr>\n",
       "    <tr>\n",
       "      <th>2009-03-04</th>\n",
       "      <td>-0.046786</td>\n",
       "      <td>0.230353</td>\n",
       "      <td>0.96150</td>\n",
       "      <td>10</td>\n",
       "    </tr>\n",
       "    <tr>\n",
       "      <th>2009-03-11</th>\n",
       "      <td>-0.045865</td>\n",
       "      <td>0.237057</td>\n",
       "      <td>0.96150</td>\n",
       "      <td>10</td>\n",
       "    </tr>\n",
       "    <tr>\n",
       "      <th>2009-03-05</th>\n",
       "      <td>-0.094591</td>\n",
       "      <td>0.239630</td>\n",
       "      <td>0.98050</td>\n",
       "      <td>6</td>\n",
       "    </tr>\n",
       "    <tr>\n",
       "      <th>2009-03-11</th>\n",
       "      <td>-0.113799</td>\n",
       "      <td>0.241808</td>\n",
       "      <td>0.98025</td>\n",
       "      <td>6</td>\n",
       "    </tr>\n",
       "    <tr>\n",
       "      <th>2009-03-09</th>\n",
       "      <td>-0.107511</td>\n",
       "      <td>0.242419</td>\n",
       "      <td>0.98025</td>\n",
       "      <td>6</td>\n",
       "    </tr>\n",
       "    <tr>\n",
       "      <th>2009-03-10</th>\n",
       "      <td>-0.112089</td>\n",
       "      <td>0.242615</td>\n",
       "      <td>0.98025</td>\n",
       "      <td>6</td>\n",
       "    </tr>\n",
       "    <tr>\n",
       "      <th>2008-11-20</th>\n",
       "      <td>-0.057644</td>\n",
       "      <td>0.250298</td>\n",
       "      <td>0.95985</td>\n",
       "      <td>10</td>\n",
       "    </tr>\n",
       "    <tr>\n",
       "      <th>2009-03-09</th>\n",
       "      <td>-0.049795</td>\n",
       "      <td>0.261390</td>\n",
       "      <td>0.96125</td>\n",
       "      <td>10</td>\n",
       "    </tr>\n",
       "    <tr>\n",
       "      <th>2009-03-05</th>\n",
       "      <td>-0.049867</td>\n",
       "      <td>0.262131</td>\n",
       "      <td>0.96125</td>\n",
       "      <td>10</td>\n",
       "    </tr>\n",
       "    <tr>\n",
       "      <th>2009-03-03</th>\n",
       "      <td>-0.044496</td>\n",
       "      <td>0.284586</td>\n",
       "      <td>0.96395</td>\n",
       "      <td>10</td>\n",
       "    </tr>\n",
       "  </tbody>\n",
       "</table>\n",
       "<p>40630 rows × 4 columns</p>\n",
       "</div>"
      ],
      "text/plain": [
       "            momentum  month_log_return  prediction  security_enc\n",
       "Date                                                            \n",
       "2008-09-25 -0.076662         -0.632523     0.93090            10\n",
       "2008-09-24 -0.081097         -0.559686     0.91230            10\n",
       "2008-09-22 -0.084976         -0.496025     0.89490            10\n",
       "2008-09-25 -0.032976         -0.476216     0.97245             7\n",
       "2008-09-19 -0.084898         -0.462080     0.89495            10\n",
       "2008-09-25 -0.030162         -0.459665     0.97435             1\n",
       "2008-09-23 -0.083429         -0.450323     0.90190            10\n",
       "2008-09-26 -0.075104         -0.446928     0.93620            10\n",
       "2008-09-25 -0.012921         -0.425113     0.98040             6\n",
       "2008-09-24 -0.029687         -0.399696     0.97445             1\n",
       "2008-09-24 -0.036682         -0.399469     0.97175             7\n",
       "2008-09-10 -0.055121         -0.397368     0.96040            10\n",
       "2008-09-24 -0.012250         -0.395234     0.98040             6\n",
       "2008-09-23 -0.029343         -0.378627     0.97445             1\n",
       "2008-09-25 -0.041523         -0.378270     0.96910             5\n",
       "2008-09-08 -0.048404         -0.371745     0.96125            10\n",
       "2008-09-09 -0.051585         -0.370140     0.96125            10\n",
       "2008-09-26 -0.013056         -0.369862     0.98040             6\n",
       "2008-09-22 -0.030989         -0.369377     0.97435             1\n",
       "2008-09-23 -0.012138         -0.366728     0.98040             6\n",
       "2008-09-22 -0.042652         -0.365568     0.96880             7\n",
       "2008-09-26 -0.032141         -0.364345     0.97435             1\n",
       "2008-09-26 -0.039758         -0.364192     0.97080             2\n",
       "2008-09-25 -0.034246         -0.363832     0.97730             9\n",
       "2008-09-05 -0.044763         -0.353664     0.96165            10\n",
       "2008-09-22 -0.014608         -0.350366     0.98040             6\n",
       "2008-09-19 -0.029204         -0.347156     0.97445             1\n",
       "2008-09-10 -0.009223         -0.346392     0.97780             1\n",
       "2008-09-15 -0.072431         -0.345602     0.94240            10\n",
       "2008-09-15 -0.020882         -0.342957     0.97715             1\n",
       "...              ...               ...         ...           ...\n",
       "2009-03-16 -0.023651          0.204794     0.96600            10\n",
       "2009-03-04 -0.086930          0.204875     0.98070             6\n",
       "2009-03-06 -0.102688          0.205132     0.98050             6\n",
       "2009-03-03 -0.079941          0.205156     0.98070             6\n",
       "2008-12-01  0.019614          0.206406     0.97255             2\n",
       "2009-04-01  0.089577          0.207793     0.98915            10\n",
       "2009-03-11 -0.096413          0.207913     0.97245             1\n",
       "2009-04-29  0.044265          0.208934     0.98915            10\n",
       "2008-12-03 -0.057549          0.210428     0.98270             3\n",
       "2008-10-28 -0.128182          0.210644     0.93315             2\n",
       "2009-03-03 -0.073892          0.213515     0.96195             7\n",
       "2009-03-10 -0.095493          0.213645     0.97245             1\n",
       "2009-03-09 -0.088272          0.213889     0.95410             7\n",
       "2001-04-03 -0.063135          0.217581     0.96850             5\n",
       "2001-04-04 -0.061968          0.221903     0.96850             5\n",
       "2009-04-28  0.048413          0.223373     0.98915            10\n",
       "2009-03-10 -0.048593          0.227167     0.96125            10\n",
       "2009-03-06 -0.050476          0.227314     0.96125            10\n",
       "2009-03-05 -0.083221          0.227658     0.97245             1\n",
       "2009-03-09 -0.092803          0.228027     0.97245             1\n",
       "2009-03-04 -0.046786          0.230353     0.96150            10\n",
       "2009-03-11 -0.045865          0.237057     0.96150            10\n",
       "2009-03-05 -0.094591          0.239630     0.98050             6\n",
       "2009-03-11 -0.113799          0.241808     0.98025             6\n",
       "2009-03-09 -0.107511          0.242419     0.98025             6\n",
       "2009-03-10 -0.112089          0.242615     0.98025             6\n",
       "2008-11-20 -0.057644          0.250298     0.95985            10\n",
       "2009-03-09 -0.049795          0.261390     0.96125            10\n",
       "2009-03-05 -0.049867          0.262131     0.96125            10\n",
       "2009-03-03 -0.044496          0.284586     0.96395            10\n",
       "\n",
       "[40630 rows x 4 columns]"
      ]
     },
     "execution_count": 326,
     "metadata": {},
     "output_type": "execute_result"
    }
   ],
   "source": [
    "combined.loc[:, ['momentum', 'month_log_return', 'prediction', 'security_enc']].sort_values('month_log_return')"
   ]
  },
  {
   "cell_type": "code",
   "execution_count": 227,
   "metadata": {
    "collapsed": false
   },
   "outputs": [
    {
     "data": {
      "text/html": [
       "<div>\n",
       "<style>\n",
       "    .dataframe thead tr:only-child th {\n",
       "        text-align: right;\n",
       "    }\n",
       "\n",
       "    .dataframe thead th {\n",
       "        text-align: left;\n",
       "    }\n",
       "\n",
       "    .dataframe tbody tr th {\n",
       "        vertical-align: top;\n",
       "    }\n",
       "</style>\n",
       "<table border=\"1\" class=\"dataframe\">\n",
       "  <thead>\n",
       "    <tr style=\"text-align: right;\">\n",
       "      <th></th>\n",
       "      <th>0</th>\n",
       "    </tr>\n",
       "  </thead>\n",
       "  <tbody>\n",
       "    <tr>\n",
       "      <th>0</th>\n",
       "      <td>NaN</td>\n",
       "    </tr>\n",
       "    <tr>\n",
       "      <th>1</th>\n",
       "      <td>NaN</td>\n",
       "    </tr>\n",
       "    <tr>\n",
       "      <th>2</th>\n",
       "      <td>NaN</td>\n",
       "    </tr>\n",
       "    <tr>\n",
       "      <th>3</th>\n",
       "      <td>2.0</td>\n",
       "    </tr>\n",
       "  </tbody>\n",
       "</table>\n",
       "</div>"
      ],
      "text/plain": [
       "     0\n",
       "0  NaN\n",
       "1  NaN\n",
       "2  NaN\n",
       "3  2.0"
      ]
     },
     "execution_count": 227,
     "metadata": {},
     "output_type": "execute_result"
    }
   ],
   "source": [
    "pd.DataFrame([1,2,3,4]).shift(1).rolling(3).mean()"
   ]
  },
  {
   "cell_type": "code",
   "execution_count": null,
   "metadata": {
    "collapsed": true
   },
   "outputs": [],
   "source": []
  }
 ],
 "metadata": {
  "anaconda-cloud": {},
  "kernelspec": {
   "display_name": "Python [default]",
   "language": "python",
   "name": "python3"
  },
  "language_info": {
   "codemirror_mode": {
    "name": "ipython",
    "version": 3
   },
   "file_extension": ".py",
   "mimetype": "text/x-python",
   "name": "python",
   "nbconvert_exporter": "python",
   "pygments_lexer": "ipython3",
   "version": "3.5.2"
  }
 },
 "nbformat": 4,
 "nbformat_minor": 2
}
